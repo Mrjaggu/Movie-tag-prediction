{
 "cells": [
  {
   "cell_type": "markdown",
   "metadata": {},
   "source": [
    "# Movie Plot Synopsis with Tags"
   ]
  },
  {
   "cell_type": "markdown",
   "metadata": {},
   "source": [
    "## Context\n",
    "Abstract Social tagging of movies reveals a wide range of heterogeneous information about movies, like the genre, plot structure, soundtracks, metadata, visual and emotional experiences. Such information can be valuable in building automatic systems to create tags for movies. Automatic tagging systems can help recommendation engines to improve the retrieval of similar movies as well as help viewers to know what to expect from a movie in advance. In this paper, we set out to the task of collecting a corpus of movie plot synopses and tags. We describe a methodology that enabled us to build a fine-grained set of around 70 tags exposing heterogeneous characteristics of movie plots and the multi-label associations of these tags with some 14K movie plot synopses. We investigate how these tags correlate with movies and the flow of emotions throughout different types of movies. Finally, we use this corpus to explore the feasibility of inferring tags from plot synopses. We expect the corpus will be useful in other tasks where analysis of narratives is relevant."
   ]
  },
  {
   "cell_type": "markdown",
   "metadata": {},
   "source": [
    "## Content\n",
    "Please find the paper here: https://www.aclweb.org/anthology/L18-1274\n",
    "\n",
    "This dataset was published in LREC 2018@Miyazaki, Japan.\n",
    "\n",
    "Keywords Tag generation for movies, Movie plot analysis, Multi-label dataset, Narrative texts\n",
    "\n",
    "More information is available here http://ritual.uh.edu/mpst-2018/\n",
    "\n",
    "Please use the following BibTex​ to cite the work.\n",
    "\n",
    "@InProceedings{KAR18.332, author = {Sudipta Kar and Suraj Maharjan and A. Pastor López-Monroy and Thamar Solorio}, title = {{MPST}: A Corpus of Movie Plot Synopses with Tags}, booktitle = {Proceedings of the Eleventh International Conference on Language Resources and Evaluation (LREC 2018)}, year = {2018}, month = {May}, date = {7-12}, location = {Miyazaki, Japan}, editor = {Nicoletta Calzolari (Conference chair) and Khalid Choukri and Christopher Cieri and Thierry Declerck and Sara Goggi and Koiti Hasida and Hitoshi Isahara and Bente Maegaard and Joseph Mariani and Hélène Mazo and Asuncion Moreno and Jan Odijk and Stelios Piperidis and Takenobu Tokunaga}, publisher = {European Language Resources Association (ELRA)}, address = {Paris, France}, isbn = {979-10-95546-00-9}, language = {english} }"
   ]
  },
  {
   "cell_type": "markdown",
   "metadata": {},
   "source": [
    "## Acknowledgements\n",
    "We would like to thank the National Science Foundation for partially funding this work under award 1462141. We are also grateful to Prasha Shrestha, Giovanni Molina, Deepthi Mave, and Gustavo Aguilar for reviewing and providing valuable feedback during the process of creating tag clusters"
   ]
  },
  {
   "cell_type": "markdown",
   "metadata": {},
   "source": [
    "## Problem Statement"
   ]
  },
  {
   "cell_type": "markdown",
   "metadata": {},
   "source": [
    "Predict tags for a movie using synopsis"
   ]
  },
  {
   "cell_type": "markdown",
   "metadata": {},
   "source": [
    "# Machine learning problem"
   ]
  },
  {
   "cell_type": "markdown",
   "metadata": {},
   "source": [
    "### Data"
   ]
  },
  {
   "cell_type": "markdown",
   "metadata": {},
   "source": [
    "https://www.kaggle.com/cryptexcode/mpst-movie-plot-synopses-with-tags/activity"
   ]
  },
  {
   "cell_type": "markdown",
   "metadata": {},
   "source": [
    "### Data overview-\n",
    "\n",
    "Its consist of movie id , movie title, synopsis,tags,source"
   ]
  },
  {
   "cell_type": "markdown",
   "metadata": {},
   "source": [
    "## Type of Machine Learning Problem\n",
    "It is a multi-label classification problem Multi-label Classification: Multilabel classification as-\n",
    "signs to each sample a set of target labels. This can be thought as predicting properties of a data-\n",
    "point that are not mutually exclusive, such as topics that are relevant for a document."
   ]
  },
  {
   "cell_type": "markdown",
   "metadata": {},
   "source": [
    "### Performance metric\n",
    "> <u><b>1.Micro-Averaged F1-Score (Mean F Score) :</u></b> The F1 score can be interpreted as a weighted aver-\n",
    "age of the precision and recall, where an F1 score reaches its best value at 1 and worst score at 0.\n",
    "The relative contribution of precision and recall to the F1 score are equal. The formula for the F1\n",
    "score is:\n",
    "2F1 = 2 * (precision * recall) / (precision + recall)\n",
    "In the multi-class and multi-label case, this is the weighted average of the F1 score of each\n",
    "class."
   ]
  },
  {
   "cell_type": "markdown",
   "metadata": {},
   "source": [
    "> <u><b>2.Micro f1 score’:</u></b> Calculate metrics globally by counting the total true positives, false negatives\n",
    "and false positives. This is a better metric when we have class imbalance.\n",
    "’Macro f1 score’: Calculate metrics for each label, and find their unweighted mean. This does\n",
    "not take label imbalance into account"
   ]
  },
  {
   "cell_type": "markdown",
   "metadata": {},
   "source": [
    "#### Importing pre-requiste package"
   ]
  },
  {
   "cell_type": "code",
   "execution_count": 1,
   "metadata": {},
   "outputs": [],
   "source": [
    "import pandas as pd\n",
    "from datetime import datetime\n",
    "import matplotlib.pyplot as plt\n",
    "import tqdm\n",
    "import re\n",
    "from nltk.corpus import stopwords\n",
    "from nltk.stem.snowball import SnowballStemmer\n",
    "import nltk\n",
    "import os\n",
    "import seaborn as sns\n",
    "import csv\n",
    "from sklearn.feature_extraction.text import CountVectorizer\n",
    "from sklearn.feature_extraction.text import TfidfVectorizer"
   ]
  },
  {
   "cell_type": "code",
   "execution_count": 2,
   "metadata": {},
   "outputs": [],
   "source": [
    "data = pd.read_csv('mpst_full_data.csv')"
   ]
  },
  {
   "cell_type": "markdown",
   "metadata": {},
   "source": [
    "## EDA"
   ]
  },
  {
   "cell_type": "code",
   "execution_count": 3,
   "metadata": {},
   "outputs": [
    {
     "data": {
      "text/html": [
       "<div>\n",
       "<style scoped>\n",
       "    .dataframe tbody tr th:only-of-type {\n",
       "        vertical-align: middle;\n",
       "    }\n",
       "\n",
       "    .dataframe tbody tr th {\n",
       "        vertical-align: top;\n",
       "    }\n",
       "\n",
       "    .dataframe thead th {\n",
       "        text-align: right;\n",
       "    }\n",
       "</style>\n",
       "<table border=\"1\" class=\"dataframe\">\n",
       "  <thead>\n",
       "    <tr style=\"text-align: right;\">\n",
       "      <th></th>\n",
       "      <th>imdb_id</th>\n",
       "      <th>title</th>\n",
       "      <th>plot_synopsis</th>\n",
       "      <th>tags</th>\n",
       "      <th>split</th>\n",
       "      <th>synopsis_source</th>\n",
       "    </tr>\n",
       "  </thead>\n",
       "  <tbody>\n",
       "    <tr>\n",
       "      <th>0</th>\n",
       "      <td>tt0057603</td>\n",
       "      <td>I tre volti della paura</td>\n",
       "      <td>Note: this synopsis is for the orginal Italian...</td>\n",
       "      <td>cult, horror, gothic, murder, atmospheric</td>\n",
       "      <td>train</td>\n",
       "      <td>imdb</td>\n",
       "    </tr>\n",
       "    <tr>\n",
       "      <th>1</th>\n",
       "      <td>tt1733125</td>\n",
       "      <td>Dungeons &amp; Dragons: The Book of Vile Darkness</td>\n",
       "      <td>Two thousand years ago, Nhagruul the Foul, a s...</td>\n",
       "      <td>violence</td>\n",
       "      <td>train</td>\n",
       "      <td>imdb</td>\n",
       "    </tr>\n",
       "    <tr>\n",
       "      <th>2</th>\n",
       "      <td>tt0033045</td>\n",
       "      <td>The Shop Around the Corner</td>\n",
       "      <td>Matuschek's, a gift store in Budapest, is the ...</td>\n",
       "      <td>romantic</td>\n",
       "      <td>test</td>\n",
       "      <td>imdb</td>\n",
       "    </tr>\n",
       "    <tr>\n",
       "      <th>3</th>\n",
       "      <td>tt0113862</td>\n",
       "      <td>Mr. Holland's Opus</td>\n",
       "      <td>Glenn Holland, not a morning person by anyone'...</td>\n",
       "      <td>inspiring, romantic, stupid, feel-good</td>\n",
       "      <td>train</td>\n",
       "      <td>imdb</td>\n",
       "    </tr>\n",
       "    <tr>\n",
       "      <th>4</th>\n",
       "      <td>tt0086250</td>\n",
       "      <td>Scarface</td>\n",
       "      <td>In May 1980, a Cuban man named Tony Montana (A...</td>\n",
       "      <td>cruelty, murder, dramatic, cult, violence, atm...</td>\n",
       "      <td>val</td>\n",
       "      <td>imdb</td>\n",
       "    </tr>\n",
       "  </tbody>\n",
       "</table>\n",
       "</div>"
      ],
      "text/plain": [
       "     imdb_id                                          title  \\\n",
       "0  tt0057603                        I tre volti della paura   \n",
       "1  tt1733125  Dungeons & Dragons: The Book of Vile Darkness   \n",
       "2  tt0033045                     The Shop Around the Corner   \n",
       "3  tt0113862                             Mr. Holland's Opus   \n",
       "4  tt0086250                                       Scarface   \n",
       "\n",
       "                                       plot_synopsis  \\\n",
       "0  Note: this synopsis is for the orginal Italian...   \n",
       "1  Two thousand years ago, Nhagruul the Foul, a s...   \n",
       "2  Matuschek's, a gift store in Budapest, is the ...   \n",
       "3  Glenn Holland, not a morning person by anyone'...   \n",
       "4  In May 1980, a Cuban man named Tony Montana (A...   \n",
       "\n",
       "                                                tags  split synopsis_source  \n",
       "0          cult, horror, gothic, murder, atmospheric  train            imdb  \n",
       "1                                           violence  train            imdb  \n",
       "2                                           romantic   test            imdb  \n",
       "3             inspiring, romantic, stupid, feel-good  train            imdb  \n",
       "4  cruelty, murder, dramatic, cult, violence, atm...    val            imdb  "
      ]
     },
     "execution_count": 3,
     "metadata": {},
     "output_type": "execute_result"
    }
   ],
   "source": [
    "data.head()"
   ]
  },
  {
   "cell_type": "code",
   "execution_count": 4,
   "metadata": {},
   "outputs": [
    {
     "name": "stdout",
     "output_type": "stream",
     "text": [
      "Number of datapoints: 14828\n",
      "Number of features: 6\n"
     ]
    }
   ],
   "source": [
    "print(\"Number of datapoints:\",data.shape[0])\n",
    "print(\"Number of features:\",data.shape[1])"
   ]
  },
  {
   "cell_type": "code",
   "execution_count": 5,
   "metadata": {},
   "outputs": [
    {
     "name": "stdout",
     "output_type": "stream",
     "text": [
      "<class 'pandas.core.frame.DataFrame'>\n",
      "RangeIndex: 14828 entries, 0 to 14827\n",
      "Data columns (total 6 columns):\n",
      "imdb_id            14828 non-null object\n",
      "title              14828 non-null object\n",
      "plot_synopsis      14828 non-null object\n",
      "tags               14828 non-null object\n",
      "split              14828 non-null object\n",
      "synopsis_source    14828 non-null object\n",
      "dtypes: object(6)\n",
      "memory usage: 695.1+ KB\n"
     ]
    }
   ],
   "source": [
    "data.info()"
   ]
  },
  {
   "cell_type": "markdown",
   "metadata": {},
   "source": [
    "### Adding polarity feature to our data"
   ]
  },
  {
   "cell_type": "markdown",
   "metadata": {},
   "source": [
    "Here polariyt tells abt which text is positive and negative i.e text is abt violence or it is abt romantic,positivity "
   ]
  },
  {
   "cell_type": "code",
   "execution_count": 7,
   "metadata": {},
   "outputs": [],
   "source": [
    "from textblob import TextBlob\n",
    "def get_polarity(text):\n",
    "    try:\n",
    "        pol = TextBlob(text).sentiment.polarity\n",
    "    except:\n",
    "        pol = 0.0\n",
    "    return pol"
   ]
  },
  {
   "cell_type": "code",
   "execution_count": 8,
   "metadata": {},
   "outputs": [],
   "source": [
    "data['polarity'] = data['plot_synopsis'].apply(get_polarity)"
   ]
  },
  {
   "cell_type": "code",
   "execution_count": 9,
   "metadata": {},
   "outputs": [
    {
     "name": "stdout",
     "output_type": "stream",
     "text": [
      "Time taken to run the cell: 0:00:00.008520\n"
     ]
    },
    {
     "data": {
      "text/html": [
       "<div>\n",
       "<style scoped>\n",
       "    .dataframe tbody tr th:only-of-type {\n",
       "        vertical-align: middle;\n",
       "    }\n",
       "\n",
       "    .dataframe tbody tr th {\n",
       "        vertical-align: top;\n",
       "    }\n",
       "\n",
       "    .dataframe thead th {\n",
       "        text-align: right;\n",
       "    }\n",
       "</style>\n",
       "<table border=\"1\" class=\"dataframe\">\n",
       "  <thead>\n",
       "    <tr style=\"text-align: right;\">\n",
       "      <th></th>\n",
       "      <th>imdb_id</th>\n",
       "      <th>title</th>\n",
       "      <th>plot_synopsis</th>\n",
       "      <th>tags</th>\n",
       "      <th>split</th>\n",
       "      <th>synopsis_source</th>\n",
       "      <th>polarity</th>\n",
       "      <th>tags_count</th>\n",
       "    </tr>\n",
       "  </thead>\n",
       "  <tbody>\n",
       "    <tr>\n",
       "      <th>0</th>\n",
       "      <td>tt0057603</td>\n",
       "      <td>I tre volti della paura</td>\n",
       "      <td>Note: this synopsis is for the orginal Italian...</td>\n",
       "      <td>cult, horror, gothic, murder, atmospheric</td>\n",
       "      <td>train</td>\n",
       "      <td>imdb</td>\n",
       "      <td>0.073613</td>\n",
       "      <td>5</td>\n",
       "    </tr>\n",
       "    <tr>\n",
       "      <th>1</th>\n",
       "      <td>tt1733125</td>\n",
       "      <td>Dungeons &amp; Dragons: The Book of Vile Darkness</td>\n",
       "      <td>Two thousand years ago, Nhagruul the Foul, a s...</td>\n",
       "      <td>violence</td>\n",
       "      <td>train</td>\n",
       "      <td>imdb</td>\n",
       "      <td>-0.043939</td>\n",
       "      <td>1</td>\n",
       "    </tr>\n",
       "    <tr>\n",
       "      <th>2</th>\n",
       "      <td>tt0033045</td>\n",
       "      <td>The Shop Around the Corner</td>\n",
       "      <td>Matuschek's, a gift store in Budapest, is the ...</td>\n",
       "      <td>romantic</td>\n",
       "      <td>test</td>\n",
       "      <td>imdb</td>\n",
       "      <td>0.005330</td>\n",
       "      <td>1</td>\n",
       "    </tr>\n",
       "    <tr>\n",
       "      <th>3</th>\n",
       "      <td>tt0113862</td>\n",
       "      <td>Mr. Holland's Opus</td>\n",
       "      <td>Glenn Holland, not a morning person by anyone'...</td>\n",
       "      <td>inspiring, romantic, stupid, feel-good</td>\n",
       "      <td>train</td>\n",
       "      <td>imdb</td>\n",
       "      <td>0.117596</td>\n",
       "      <td>4</td>\n",
       "    </tr>\n",
       "    <tr>\n",
       "      <th>4</th>\n",
       "      <td>tt0086250</td>\n",
       "      <td>Scarface</td>\n",
       "      <td>In May 1980, a Cuban man named Tony Montana (A...</td>\n",
       "      <td>cruelty, murder, dramatic, cult, violence, atm...</td>\n",
       "      <td>val</td>\n",
       "      <td>imdb</td>\n",
       "      <td>0.009198</td>\n",
       "      <td>10</td>\n",
       "    </tr>\n",
       "  </tbody>\n",
       "</table>\n",
       "</div>"
      ],
      "text/plain": [
       "     imdb_id                                          title  \\\n",
       "0  tt0057603                        I tre volti della paura   \n",
       "1  tt1733125  Dungeons & Dragons: The Book of Vile Darkness   \n",
       "2  tt0033045                     The Shop Around the Corner   \n",
       "3  tt0113862                             Mr. Holland's Opus   \n",
       "4  tt0086250                                       Scarface   \n",
       "\n",
       "                                       plot_synopsis  \\\n",
       "0  Note: this synopsis is for the orginal Italian...   \n",
       "1  Two thousand years ago, Nhagruul the Foul, a s...   \n",
       "2  Matuschek's, a gift store in Budapest, is the ...   \n",
       "3  Glenn Holland, not a morning person by anyone'...   \n",
       "4  In May 1980, a Cuban man named Tony Montana (A...   \n",
       "\n",
       "                                                tags  split synopsis_source  \\\n",
       "0          cult, horror, gothic, murder, atmospheric  train            imdb   \n",
       "1                                           violence  train            imdb   \n",
       "2                                           romantic   test            imdb   \n",
       "3             inspiring, romantic, stupid, feel-good  train            imdb   \n",
       "4  cruelty, murder, dramatic, cult, violence, atm...    val            imdb   \n",
       "\n",
       "   polarity  tags_count  \n",
       "0  0.073613           5  \n",
       "1 -0.043939           1  \n",
       "2  0.005330           1  \n",
       "3  0.117596           4  \n",
       "4  0.009198          10  "
      ]
     },
     "execution_count": 9,
     "metadata": {},
     "output_type": "execute_result"
    }
   ],
   "source": [
    "from datetime import datetime\n",
    "\n",
    "start = datetime.now()\n",
    "data['tags_count'] =data.tags.apply(lambda text: len(text.split(\" \")))\n",
    "print(\"Time taken to run the cell:\",datetime.now() - start)\n",
    "\n",
    "data.head()"
   ]
  },
  {
   "cell_type": "code",
   "execution_count": 14,
   "metadata": {},
   "outputs": [
    {
     "data": {
      "text/plain": [
       "1     5171\n",
       "2     2997\n",
       "3     1926\n",
       "4     1318\n",
       "5      960\n",
       "6      661\n",
       "7      492\n",
       "8      374\n",
       "9      252\n",
       "10     191\n",
       "11     136\n",
       "12     100\n",
       "13      70\n",
       "14      44\n",
       "15      35\n",
       "16      31\n",
       "17      21\n",
       "18      18\n",
       "20      11\n",
       "19       8\n",
       "21       3\n",
       "26       2\n",
       "27       2\n",
       "22       2\n",
       "23       2\n",
       "24       1\n",
       "Name: tags_count, dtype: int64"
      ]
     },
     "execution_count": 14,
     "metadata": {},
     "output_type": "execute_result"
    }
   ],
   "source": [
    "data.tags_count.value_counts()"
   ]
  },
  {
   "cell_type": "code",
   "execution_count": 15,
   "metadata": {},
   "outputs": [
    {
     "data": {
      "text/plain": [
       "imdb_id            0\n",
       "title              0\n",
       "plot_synopsis      0\n",
       "tags               0\n",
       "split              0\n",
       "synopsis_source    0\n",
       "polarity           0\n",
       "tags_count         0\n",
       "dtype: int64"
      ]
     },
     "execution_count": 15,
     "metadata": {},
     "output_type": "execute_result"
    }
   ],
   "source": [
    "data.isna().sum()"
   ]
  },
  {
   "cell_type": "markdown",
   "metadata": {},
   "source": [
    "> As we can see there is no NaN value in data"
   ]
  },
  {
   "cell_type": "code",
   "execution_count": 16,
   "metadata": {},
   "outputs": [
    {
     "data": {
      "text/plain": [
       "0"
      ]
     },
     "execution_count": 16,
     "metadata": {},
     "output_type": "execute_result"
    }
   ],
   "source": [
    "data.duplicated().sum()"
   ]
  },
  {
   "cell_type": "markdown",
   "metadata": {},
   "source": [
    "<b>As we can see there is duplicated data</b>"
   ]
  },
  {
   "cell_type": "code",
   "execution_count": 17,
   "metadata": {},
   "outputs": [
    {
     "data": {
      "text/plain": [
       "array(['cult, horror, gothic, murder, atmospheric', 'violence',\n",
       "       'romantic', ..., 'violence, romantic, historical fiction',\n",
       "       'suspenseful, neo noir, violence, tragedy, revenge, sentimental',\n",
       "       'neo noir, realism, murder, violence, atmospheric, suspenseful'],\n",
       "      dtype=object)"
      ]
     },
     "execution_count": 17,
     "metadata": {},
     "output_type": "execute_result"
    }
   ],
   "source": [
    "data.tags.unique()"
   ]
  },
  {
   "cell_type": "code",
   "execution_count": 18,
   "metadata": {},
   "outputs": [
    {
     "data": {
      "text/html": [
       "<div>\n",
       "<style scoped>\n",
       "    .dataframe tbody tr th:only-of-type {\n",
       "        vertical-align: middle;\n",
       "    }\n",
       "\n",
       "    .dataframe tbody tr th {\n",
       "        vertical-align: top;\n",
       "    }\n",
       "\n",
       "    .dataframe thead th {\n",
       "        text-align: right;\n",
       "    }\n",
       "</style>\n",
       "<table border=\"1\" class=\"dataframe\">\n",
       "  <thead>\n",
       "    <tr style=\"text-align: right;\">\n",
       "      <th></th>\n",
       "      <th>polarity</th>\n",
       "      <th>tags_count</th>\n",
       "    </tr>\n",
       "  </thead>\n",
       "  <tbody>\n",
       "    <tr>\n",
       "      <th>count</th>\n",
       "      <td>14828.000000</td>\n",
       "      <td>14828.000000</td>\n",
       "    </tr>\n",
       "    <tr>\n",
       "      <th>mean</th>\n",
       "      <td>0.030277</td>\n",
       "      <td>3.248854</td>\n",
       "    </tr>\n",
       "    <tr>\n",
       "      <th>std</th>\n",
       "      <td>0.076196</td>\n",
       "      <td>2.932064</td>\n",
       "    </tr>\n",
       "    <tr>\n",
       "      <th>min</th>\n",
       "      <td>-0.444259</td>\n",
       "      <td>1.000000</td>\n",
       "    </tr>\n",
       "    <tr>\n",
       "      <th>25%</th>\n",
       "      <td>-0.016703</td>\n",
       "      <td>1.000000</td>\n",
       "    </tr>\n",
       "    <tr>\n",
       "      <th>50%</th>\n",
       "      <td>0.027273</td>\n",
       "      <td>2.000000</td>\n",
       "    </tr>\n",
       "    <tr>\n",
       "      <th>75%</th>\n",
       "      <td>0.074294</td>\n",
       "      <td>4.000000</td>\n",
       "    </tr>\n",
       "    <tr>\n",
       "      <th>max</th>\n",
       "      <td>0.434854</td>\n",
       "      <td>27.000000</td>\n",
       "    </tr>\n",
       "  </tbody>\n",
       "</table>\n",
       "</div>"
      ],
      "text/plain": [
       "           polarity    tags_count\n",
       "count  14828.000000  14828.000000\n",
       "mean       0.030277      3.248854\n",
       "std        0.076196      2.932064\n",
       "min       -0.444259      1.000000\n",
       "25%       -0.016703      1.000000\n",
       "50%        0.027273      2.000000\n",
       "75%        0.074294      4.000000\n",
       "max        0.434854     27.000000"
      ]
     },
     "execution_count": 18,
     "metadata": {},
     "output_type": "execute_result"
    }
   ],
   "source": [
    "data.describe()"
   ]
  },
  {
   "cell_type": "markdown",
   "metadata": {},
   "source": [
    "Here we can see that minimum tag is 1 for a movie and maximum is 27 for a movie and our average per movie tag is 1"
   ]
  },
  {
   "cell_type": "markdown",
   "metadata": {},
   "source": [
    "## Analysis of Tags "
   ]
  },
  {
   "cell_type": "code",
   "execution_count": 19,
   "metadata": {},
   "outputs": [],
   "source": [
    "from sklearn.feature_extraction.text import CountVectorizer\n",
    "from sklearn.feature_extraction.text import TfidfVectorizer\n",
    "\n",
    "vectorizer = CountVectorizer()\n",
    "tags_cnt = vectorizer.fit_transform(data.tags)"
   ]
  },
  {
   "cell_type": "code",
   "execution_count": 20,
   "metadata": {},
   "outputs": [
    {
     "name": "stdout",
     "output_type": "stream",
     "text": [
      "Number of unique tags are 82 and number of datapoints are 14828\n"
     ]
    }
   ],
   "source": [
    "print(\"Number of unique tags are {} and number of datapoints are {}\".format(tags_cnt.shape[1],tags_cnt.shape[0]))"
   ]
  },
  {
   "cell_type": "code",
   "execution_count": 21,
   "metadata": {},
   "outputs": [
    {
     "name": "stdout",
     "output_type": "stream",
     "text": [
      "For example we have tags like : ['absurd', 'action', 'adult', 'allegory', 'alternate', 'anti', 'atmospheric', 'autobiographical', 'avant', 'blaxploitation', 'bleak', 'boring', 'brainwashing', 'christian', 'claustrophobic', 'clever', 'comedy', 'comic', 'cruelty', 'cult', 'cute', 'dark', 'depressing', 'dramatic', 'entertaining', 'evil', 'fantasy', 'feel', 'fi', 'fiction', 'film', 'flashback', 'garde', 'good', 'gothic', 'grindhouse', 'haunting', 'historical', 'history', 'home', 'horror', 'humor', 'insanity', 'inspiring', 'intrigue', 'magical', 'melodrama', 'movie', 'murder', 'mystery', 'neo', 'noir', 'non', 'paranormal', 'philosophical', 'plot', 'pornographic', 'prank', 'provoking', 'psychedelic', 'psychological', 'queer', 'realism', 'reality', 'revenge', 'romantic', 'sadist', 'satire', 'sci', 'sentimental', 'storytelling', 'stupid', 'suicidal', 'suspenseful', 'thought', 'tragedy', 'twist', 'versus', 'violence', 'war', 'western', 'whimsical']\n"
     ]
    }
   ],
   "source": [
    "tags= vectorizer.get_feature_names()\n",
    "print(\"For example we have tags like :\",tags[:82])"
   ]
  },
  {
   "cell_type": "code",
   "execution_count": 22,
   "metadata": {},
   "outputs": [],
   "source": [
    "freqs = tags_cnt.sum(axis=0).A1\n",
    "result = dict(zip(tags,freqs))"
   ]
  },
  {
   "cell_type": "code",
   "execution_count": 23,
   "metadata": {},
   "outputs": [
    {
     "data": {
      "text/html": [
       "<div>\n",
       "<style scoped>\n",
       "    .dataframe tbody tr th:only-of-type {\n",
       "        vertical-align: middle;\n",
       "    }\n",
       "\n",
       "    .dataframe tbody tr th {\n",
       "        vertical-align: top;\n",
       "    }\n",
       "\n",
       "    .dataframe thead th {\n",
       "        text-align: right;\n",
       "    }\n",
       "</style>\n",
       "<table border=\"1\" class=\"dataframe\">\n",
       "  <thead>\n",
       "    <tr style=\"text-align: right;\">\n",
       "      <th></th>\n",
       "      <th>Tags</th>\n",
       "      <th>Counts</th>\n",
       "    </tr>\n",
       "  </thead>\n",
       "  <tbody>\n",
       "    <tr>\n",
       "      <th>0</th>\n",
       "      <td>absurd</td>\n",
       "      <td>270</td>\n",
       "    </tr>\n",
       "    <tr>\n",
       "      <th>1</th>\n",
       "      <td>action</td>\n",
       "      <td>664</td>\n",
       "    </tr>\n",
       "    <tr>\n",
       "      <th>2</th>\n",
       "      <td>adult</td>\n",
       "      <td>128</td>\n",
       "    </tr>\n",
       "    <tr>\n",
       "      <th>3</th>\n",
       "      <td>allegory</td>\n",
       "      <td>139</td>\n",
       "    </tr>\n",
       "    <tr>\n",
       "      <th>4</th>\n",
       "      <td>alternate</td>\n",
       "      <td>307</td>\n",
       "    </tr>\n",
       "  </tbody>\n",
       "</table>\n",
       "</div>"
      ],
      "text/plain": [
       "        Tags  Counts\n",
       "0     absurd     270\n",
       "1     action     664\n",
       "2      adult     128\n",
       "3   allegory     139\n",
       "4  alternate     307"
      ]
     },
     "execution_count": 23,
     "metadata": {},
     "output_type": "execute_result"
    }
   ],
   "source": [
    "#saving the file in csv\n",
    "import os\n",
    "import csv\n",
    "\n",
    "if not os.path.isfile('tag_counts_dict_dtm.csv'):\n",
    "    with open('tag_counts_dict_dtm.csv', 'w') as csv_file:\n",
    "        writer = csv.writer(csv_file)\n",
    "        for key, value in result.items():\n",
    "            writer.writerow([key, value])\n",
    "tag_df = pd.read_csv(\"tag_counts_dict_dtm.csv\", names=['Tags', 'Counts'])\n",
    "tag_df.head()\n",
    "        "
   ]
  },
  {
   "cell_type": "code",
   "execution_count": 24,
   "metadata": {},
   "outputs": [],
   "source": [
    "tag_df_sorted = tag_df.sort_values(['Counts'], ascending=False)\n",
    "tag_counts = tag_df_sorted['Counts'].values"
   ]
  },
  {
   "cell_type": "code",
   "execution_count": 25,
   "metadata": {},
   "outputs": [
    {
     "data": {
      "image/png": "[encoded data removed]",
      "text/plain": [
       "<Figure size 864x360 with 1 Axes>"
      ]
     },
     "metadata": {
      "needs_background": "light"
     },
     "output_type": "display_data"
    }
   ],
   "source": [
    "plt.figure(figsize=(12,5))\n",
    "plt.plot(tag_counts)\n",
    "plt.title(\"Distribution of number of times tag appeared in movie\")\n",
    "plt.grid()\n",
    "plt.xlabel(\"Tag number\")\n",
    "plt.ylabel(\"Number of times tag appeared\")\n",
    "plt.show()"
   ]
  },
  {
   "cell_type": "markdown",
   "metadata": {},
   "source": [
    "> Here we can clearly see that few tag are more repeated and few around 1 "
   ]
  },
  {
   "cell_type": "code",
   "execution_count": 22,
   "metadata": {},
   "outputs": [
    {
     "name": "stdout",
     "output_type": "stream",
     "text": [
      "We have total 14828 datapoints.\n",
      "[5, 1, 1, 5, 10]\n"
     ]
    }
   ],
   "source": [
    "#Storing the count of tag in each movie in list 'tag_count'\n",
    "tag_quest_count = tags_cnt.sum(axis=1).tolist()\n",
    "#Converting list of lists into single list, we will get [[3], [4], [2], [2], [3]] and w\n",
    "tag_quest_count=[int(j) for i in tag_quest_count for j in i]\n",
    "print ('We have total {} datapoints.'.format(len(tag_quest_count)))\n",
    "print(tag_quest_count[:5])"
   ]
  },
  {
   "cell_type": "code",
   "execution_count": 23,
   "metadata": {},
   "outputs": [
    {
     "name": "stdout",
     "output_type": "stream",
     "text": [
      "Maximum number of tags per movie: 28\n",
      "Minimum number of tags per movie: 1\n",
      "Avg. number of tags per movie: 3.282911\n"
     ]
    }
   ],
   "source": [
    "print( \"Maximum number of tags per movie: %d\"%max(tag_quest_count))\n",
    "print( \"Minimum number of tags per movie: %d\"%min(tag_quest_count))\n",
    "print( \"Avg. number of tags per movie: %f\"% ((sum(tag_quest_count)*1.0)/len(tag_quest_count)))"
   ]
  },
  {
   "cell_type": "code",
   "execution_count": null,
   "metadata": {},
   "outputs": [],
   "source": [
    "rowSums = data.iloc[:,2:].sum(axis=1)\n",
    "clean_comments_count = (rowSums==0).sum(axis=0)\n",
    "\n",
    "print(\"Total number of comments = \",len(data_raw))\n",
    "print(\"Number of clean comments = \",clean_comments_count)\n",
    "print(\"Number of comments with labels =\",(len(data_raw)-clean_comments_count))"
   ]
  },
  {
   "cell_type": "code",
   "execution_count": 24,
   "metadata": {},
   "outputs": [
    {
     "data": {
      "image/png": "[encoded data removed]",
      "text/plain": [
       "<Figure size 432x288 with 1 Axes>"
      ]
     },
     "metadata": {
      "needs_background": "light"
     },
     "output_type": "display_data"
    }
   ],
   "source": [
    "import seaborn as sns\n",
    "\n",
    "sns.countplot(tag_quest_count, palette='gist_rainbow',)\n",
    "plt.title(\"Number of tags in the movie \")\n",
    "plt.xlabel(\"Number of Tags\")\n",
    "plt.ylabel(\"Number of movies\")\n",
    "plt.show()"
   ]
  },
  {
   "cell_type": "markdown",
   "metadata": {},
   "source": [
    "> As we can see there few tags which are repeated more times and there are some features which have zero times frequency"
   ]
  },
  {
   "cell_type": "markdown",
   "metadata": {},
   "source": [
    "## Most Frequent tags"
   ]
  },
  {
   "cell_type": "code",
   "execution_count": 25,
   "metadata": {},
   "outputs": [
    {
     "data": {
      "image/png": "[encoded data removed]",
      "text/plain": [
       "<Figure size 1440x720 with 1 Axes>"
      ]
     },
     "metadata": {
      "needs_background": "light"
     },
     "output_type": "display_data"
    },
    {
     "name": "stdout",
     "output_type": "stream",
     "text": [
      "Time taken to run this cell : 0:00:02.080418\n"
     ]
    }
   ],
   "source": [
    "from wordcloud import WordCloud\n",
    "\n",
    "# Ploting word cloud\n",
    "start = datetime.now()\n",
    "# Lets first convert the 'result' dictionary to 'list of tuples'\n",
    "tup = dict(result.items())\n",
    "#Initializing WordCloud using frequencies of tags.\n",
    "wordcloud = WordCloud(background_color='black',width=1600,height=800,).generate_from_frequencies(tup)\n",
    "fig = plt.figure(figsize=(20,10))\n",
    "plt.imshow(wordcloud)\n",
    "plt.axis('off')\n",
    "plt.tight_layout(pad=0)\n",
    "fig.savefig(\"tag.png\")\n",
    "plt.show()\n",
    "print(\"Time taken to run this cell :\", datetime.now() - start)"
   ]
  },
  {
   "cell_type": "markdown",
   "metadata": {},
   "source": [
    "> <b>So by plotting wordcloud we can make observation that ther are some tags like murder,flashback,violence are repeated more times</b>"
   ]
  },
  {
   "cell_type": "code",
   "execution_count": 26,
   "metadata": {},
   "outputs": [
    {
     "data": {
      "image/png": "[encoded data removed]",
      "text/plain": [
       "<Figure size 432x288 with 1 Axes>"
      ]
     },
     "metadata": {
      "needs_background": "light"
     },
     "output_type": "display_data"
    }
   ],
   "source": [
    "import numpy as np\n",
    "\n",
    "i=np.arange(30)\n",
    "tag_df_sorted.head(30).plot(kind='bar')\n",
    "plt.title('Frequency of top 20 tags')\n",
    "plt.xticks(i, tag_df_sorted['Tags'])\n",
    "plt.xlabel('Tags')\n",
    "plt.ylabel('Counts')\n",
    "plt.show()"
   ]
  },
  {
   "cell_type": "code",
   "execution_count": 27,
   "metadata": {},
   "outputs": [
    {
     "data": {
      "text/html": [
       "<div>\n",
       "<style scoped>\n",
       "    .dataframe tbody tr th:only-of-type {\n",
       "        vertical-align: middle;\n",
       "    }\n",
       "\n",
       "    .dataframe tbody tr th {\n",
       "        vertical-align: top;\n",
       "    }\n",
       "\n",
       "    .dataframe thead th {\n",
       "        text-align: right;\n",
       "    }\n",
       "</style>\n",
       "<table border=\"1\" class=\"dataframe\">\n",
       "  <thead>\n",
       "    <tr style=\"text-align: right;\">\n",
       "      <th></th>\n",
       "      <th>imdb_id</th>\n",
       "      <th>title</th>\n",
       "      <th>plot_synopsis</th>\n",
       "      <th>tags</th>\n",
       "      <th>split</th>\n",
       "      <th>synopsis_source</th>\n",
       "      <th>polarity</th>\n",
       "      <th>tags_count</th>\n",
       "    </tr>\n",
       "  </thead>\n",
       "  <tbody>\n",
       "    <tr>\n",
       "      <th>0</th>\n",
       "      <td>tt0057603</td>\n",
       "      <td>I tre volti della paura</td>\n",
       "      <td>Note: this synopsis is for the orginal Italian...</td>\n",
       "      <td>cult, horror, gothic, murder, atmospheric</td>\n",
       "      <td>train</td>\n",
       "      <td>imdb</td>\n",
       "      <td>0.073613</td>\n",
       "      <td>5</td>\n",
       "    </tr>\n",
       "    <tr>\n",
       "      <th>1</th>\n",
       "      <td>tt1733125</td>\n",
       "      <td>Dungeons &amp; Dragons: The Book of Vile Darkness</td>\n",
       "      <td>Two thousand years ago, Nhagruul the Foul, a s...</td>\n",
       "      <td>violence</td>\n",
       "      <td>train</td>\n",
       "      <td>imdb</td>\n",
       "      <td>-0.043939</td>\n",
       "      <td>1</td>\n",
       "    </tr>\n",
       "    <tr>\n",
       "      <th>2</th>\n",
       "      <td>tt0033045</td>\n",
       "      <td>The Shop Around the Corner</td>\n",
       "      <td>Matuschek's, a gift store in Budapest, is the ...</td>\n",
       "      <td>romantic</td>\n",
       "      <td>test</td>\n",
       "      <td>imdb</td>\n",
       "      <td>0.005330</td>\n",
       "      <td>1</td>\n",
       "    </tr>\n",
       "    <tr>\n",
       "      <th>3</th>\n",
       "      <td>tt0113862</td>\n",
       "      <td>Mr. Holland's Opus</td>\n",
       "      <td>Glenn Holland, not a morning person by anyone'...</td>\n",
       "      <td>inspiring, romantic, stupid, feel-good</td>\n",
       "      <td>train</td>\n",
       "      <td>imdb</td>\n",
       "      <td>0.117596</td>\n",
       "      <td>4</td>\n",
       "    </tr>\n",
       "    <tr>\n",
       "      <th>4</th>\n",
       "      <td>tt0086250</td>\n",
       "      <td>Scarface</td>\n",
       "      <td>In May 1980, a Cuban man named Tony Montana (A...</td>\n",
       "      <td>cruelty, murder, dramatic, cult, violence, atm...</td>\n",
       "      <td>val</td>\n",
       "      <td>imdb</td>\n",
       "      <td>0.009198</td>\n",
       "      <td>10</td>\n",
       "    </tr>\n",
       "  </tbody>\n",
       "</table>\n",
       "</div>"
      ],
      "text/plain": [
       "     imdb_id                                          title  \\\n",
       "0  tt0057603                        I tre volti della paura   \n",
       "1  tt1733125  Dungeons & Dragons: The Book of Vile Darkness   \n",
       "2  tt0033045                     The Shop Around the Corner   \n",
       "3  tt0113862                             Mr. Holland's Opus   \n",
       "4  tt0086250                                       Scarface   \n",
       "\n",
       "                                       plot_synopsis  \\\n",
       "0  Note: this synopsis is for the orginal Italian...   \n",
       "1  Two thousand years ago, Nhagruul the Foul, a s...   \n",
       "2  Matuschek's, a gift store in Budapest, is the ...   \n",
       "3  Glenn Holland, not a morning person by anyone'...   \n",
       "4  In May 1980, a Cuban man named Tony Montana (A...   \n",
       "\n",
       "                                                tags  split synopsis_source  \\\n",
       "0          cult, horror, gothic, murder, atmospheric  train            imdb   \n",
       "1                                           violence  train            imdb   \n",
       "2                                           romantic   test            imdb   \n",
       "3             inspiring, romantic, stupid, feel-good  train            imdb   \n",
       "4  cruelty, murder, dramatic, cult, violence, atm...    val            imdb   \n",
       "\n",
       "   polarity  tags_count  \n",
       "0  0.073613           5  \n",
       "1 -0.043939           1  \n",
       "2  0.005330           1  \n",
       "3  0.117596           4  \n",
       "4  0.009198          10  "
      ]
     },
     "execution_count": 27,
     "metadata": {},
     "output_type": "execute_result"
    }
   ],
   "source": [
    "data.head()"
   ]
  },
  {
   "cell_type": "code",
   "execution_count": 118,
   "metadata": {},
   "outputs": [],
   "source": [
    "from nltk.corpus import stopwords\n",
    "from nltk.stem.snowball import SnowballStemmer\n",
    "import nltk\n",
    "\n",
    "stop_words = set(stopwords.words('english'))\n",
    "sno = nltk.stem.SnowballStemmer('english')"
   ]
  },
  {
   "cell_type": "code",
   "execution_count": 119,
   "metadata": {},
   "outputs": [],
   "source": [
    "def cleanhtml(sentence): #function to clean the word of any html-tags\n",
    "    cleanr = re.compile('<.*?>')\n",
    "    cleantext = re.sub(cleanr, ' ', sentence)\n",
    "    return cleantext"
   ]
  },
  {
   "cell_type": "code",
   "execution_count": 122,
   "metadata": {},
   "outputs": [],
   "source": [
    "final_string=[]\n",
    "for sent in (data['plot_synopsis']):\n",
    "    filtered_sentence=[]\n",
    "#print(sent);\n",
    "    sent=cleanhtml(sent) # remove HTMl tags\n",
    "    for w in sent.split():\n",
    "        \n",
    "\n",
    "        if(w.lower() not in stop_words):\n",
    "            s=w.lower().encode('utf8')\n",
    "            filtered_sentence.append(s)\n",
    "    str1 = b\" \".join(filtered_sentence) \n",
    "\n",
    "    final_string.append(str1)\n",
    "data['Cleaned_sysnopsis2']=final_string #adding a column of CleanedText which displays the d\n",
    "data['Cleaned_sysnopsis2']=data['Cleaned_sysnopsis2'].str.decode(\"utf-8\")"
   ]
  },
  {
   "cell_type": "code",
   "execution_count": 123,
   "metadata": {},
   "outputs": [
    {
     "data": {
      "text/html": [
       "<div>\n",
       "<style scoped>\n",
       "    .dataframe tbody tr th:only-of-type {\n",
       "        vertical-align: middle;\n",
       "    }\n",
       "\n",
       "    .dataframe tbody tr th {\n",
       "        vertical-align: top;\n",
       "    }\n",
       "\n",
       "    .dataframe thead th {\n",
       "        text-align: right;\n",
       "    }\n",
       "</style>\n",
       "<table border=\"1\" class=\"dataframe\">\n",
       "  <thead>\n",
       "    <tr style=\"text-align: right;\">\n",
       "      <th></th>\n",
       "      <th>imdb_id</th>\n",
       "      <th>title</th>\n",
       "      <th>plot_synopsis</th>\n",
       "      <th>tags</th>\n",
       "      <th>split</th>\n",
       "      <th>synopsis_source</th>\n",
       "      <th>polarity</th>\n",
       "      <th>tags_count</th>\n",
       "      <th>pos</th>\n",
       "      <th>verb_text</th>\n",
       "      <th>verb_new</th>\n",
       "      <th>Cleaned_sysnopsis2</th>\n",
       "    </tr>\n",
       "  </thead>\n",
       "  <tbody>\n",
       "    <tr>\n",
       "      <th>0</th>\n",
       "      <td>tt0057603</td>\n",
       "      <td>I tre volti della paura</td>\n",
       "      <td>Note: this synopsis is for the orginal Italian...</td>\n",
       "      <td>cult, horror, gothic, murder, atmospheric</td>\n",
       "      <td>train</td>\n",
       "      <td>imdb</td>\n",
       "      <td>0.073613</td>\n",
       "      <td>5</td>\n",
       "      <td>[VERB, PUNCT, DET, NOUN, VERB, ADP, DET, ADJ, ...</td>\n",
       "      <td>[Note, :, this, synopsis, is, for, the, orgina...</td>\n",
       "      <td>[[Note], [is], [introduces], [known], [is], [p...</td>\n",
       "      <td>note: synopsis orginal italian release segment...</td>\n",
       "    </tr>\n",
       "    <tr>\n",
       "      <th>1</th>\n",
       "      <td>tt1733125</td>\n",
       "      <td>Dungeons &amp; Dragons: The Book of Vile Darkness</td>\n",
       "      <td>Two thousand years ago, Nhagruul the Foul, a s...</td>\n",
       "      <td>violence</td>\n",
       "      <td>train</td>\n",
       "      <td>imdb</td>\n",
       "      <td>-0.043939</td>\n",
       "      <td>1</td>\n",
       "      <td>[NUM, NUM, NOUN, ADV, PUNCT, PROPN, DET, PROPN...</td>\n",
       "      <td>[Two, thousand, years, ago, ,, Nhagruul, the, ...</td>\n",
       "      <td>[[reveled], [corrupting], [neared], [was], [di...</td>\n",
       "      <td>two thousand years ago, nhagruul foul, sorcere...</td>\n",
       "    </tr>\n",
       "    <tr>\n",
       "      <th>2</th>\n",
       "      <td>tt0033045</td>\n",
       "      <td>The Shop Around the Corner</td>\n",
       "      <td>Matuschek's, a gift store in Budapest, is the ...</td>\n",
       "      <td>romantic</td>\n",
       "      <td>test</td>\n",
       "      <td>imdb</td>\n",
       "      <td>0.005330</td>\n",
       "      <td>1</td>\n",
       "      <td>[PROPN, PART, PUNCT, DET, NOUN, NOUN, ADP, PRO...</td>\n",
       "      <td>[Matuschek, 's, ,, a, gift, store, in, Budapes...</td>\n",
       "      <td>[[is], [irritate], [is], [tempered], [has], [t...</td>\n",
       "      <td>matuschek's, gift store budapest, workplace al...</td>\n",
       "    </tr>\n",
       "    <tr>\n",
       "      <th>3</th>\n",
       "      <td>tt0113862</td>\n",
       "      <td>Mr. Holland's Opus</td>\n",
       "      <td>Glenn Holland, not a morning person by anyone'...</td>\n",
       "      <td>inspiring, romantic, stupid, feel-good</td>\n",
       "      <td>train</td>\n",
       "      <td>imdb</td>\n",
       "      <td>0.117596</td>\n",
       "      <td>4</td>\n",
       "      <td>[PROPN, PROPN, PUNCT, ADV, DET, NOUN, NOUN, AD...</td>\n",
       "      <td>[Glenn, Holland, ,, not, a, morning, person, b...</td>\n",
       "      <td>[[is], [woken], [has], [taken], [renamed], [in...</td>\n",
       "      <td>glenn holland, morning person anyone's standar...</td>\n",
       "    </tr>\n",
       "    <tr>\n",
       "      <th>4</th>\n",
       "      <td>tt0086250</td>\n",
       "      <td>Scarface</td>\n",
       "      <td>In May 1980, a Cuban man named Tony Montana (A...</td>\n",
       "      <td>cruelty, murder, dramatic, cult, violence, atm...</td>\n",
       "      <td>val</td>\n",
       "      <td>imdb</td>\n",
       "      <td>0.009198</td>\n",
       "      <td>10</td>\n",
       "      <td>[ADP, PROPN, NUM, PUNCT, DET, ADJ, NOUN, VERB,...</td>\n",
       "      <td>[In, May, 1980, ,, a, Cuban, man, named, Tony,...</td>\n",
       "      <td>[[named], [claims], [is], [departing], [questi...</td>\n",
       "      <td>may 1980, cuban man named tony montana (al pac...</td>\n",
       "    </tr>\n",
       "  </tbody>\n",
       "</table>\n",
       "</div>"
      ],
      "text/plain": [
       "     imdb_id                                          title  \\\n",
       "0  tt0057603                        I tre volti della paura   \n",
       "1  tt1733125  Dungeons & Dragons: The Book of Vile Darkness   \n",
       "2  tt0033045                     The Shop Around the Corner   \n",
       "3  tt0113862                             Mr. Holland's Opus   \n",
       "4  tt0086250                                       Scarface   \n",
       "\n",
       "                                       plot_synopsis  \\\n",
       "0  Note: this synopsis is for the orginal Italian...   \n",
       "1  Two thousand years ago, Nhagruul the Foul, a s...   \n",
       "2  Matuschek's, a gift store in Budapest, is the ...   \n",
       "3  Glenn Holland, not a morning person by anyone'...   \n",
       "4  In May 1980, a Cuban man named Tony Montana (A...   \n",
       "\n",
       "                                                tags  split synopsis_source  \\\n",
       "0          cult, horror, gothic, murder, atmospheric  train            imdb   \n",
       "1                                           violence  train            imdb   \n",
       "2                                           romantic   test            imdb   \n",
       "3             inspiring, romantic, stupid, feel-good  train            imdb   \n",
       "4  cruelty, murder, dramatic, cult, violence, atm...    val            imdb   \n",
       "\n",
       "   polarity  tags_count                                                pos  \\\n",
       "0  0.073613           5  [VERB, PUNCT, DET, NOUN, VERB, ADP, DET, ADJ, ...   \n",
       "1 -0.043939           1  [NUM, NUM, NOUN, ADV, PUNCT, PROPN, DET, PROPN...   \n",
       "2  0.005330           1  [PROPN, PART, PUNCT, DET, NOUN, NOUN, ADP, PRO...   \n",
       "3  0.117596           4  [PROPN, PROPN, PUNCT, ADV, DET, NOUN, NOUN, AD...   \n",
       "4  0.009198          10  [ADP, PROPN, NUM, PUNCT, DET, ADJ, NOUN, VERB,...   \n",
       "\n",
       "                                           verb_text  \\\n",
       "0  [Note, :, this, synopsis, is, for, the, orgina...   \n",
       "1  [Two, thousand, years, ago, ,, Nhagruul, the, ...   \n",
       "2  [Matuschek, 's, ,, a, gift, store, in, Budapes...   \n",
       "3  [Glenn, Holland, ,, not, a, morning, person, b...   \n",
       "4  [In, May, 1980, ,, a, Cuban, man, named, Tony,...   \n",
       "\n",
       "                                            verb_new  \\\n",
       "0  [[Note], [is], [introduces], [known], [is], [p...   \n",
       "1  [[reveled], [corrupting], [neared], [was], [di...   \n",
       "2  [[is], [irritate], [is], [tempered], [has], [t...   \n",
       "3  [[is], [woken], [has], [taken], [renamed], [in...   \n",
       "4  [[named], [claims], [is], [departing], [questi...   \n",
       "\n",
       "                                  Cleaned_sysnopsis2  \n",
       "0  note: synopsis orginal italian release segment...  \n",
       "1  two thousand years ago, nhagruul foul, sorcere...  \n",
       "2  matuschek's, gift store budapest, workplace al...  \n",
       "3  glenn holland, morning person anyone's standar...  \n",
       "4  may 1980, cuban man named tony montana (al pac...  "
      ]
     },
     "execution_count": 123,
     "metadata": {},
     "output_type": "execute_result"
    }
   ],
   "source": [
    "data.head()"
   ]
  },
  {
   "cell_type": "code",
   "execution_count": 124,
   "metadata": {},
   "outputs": [
    {
     "name": "stdout",
     "output_type": "stream",
     "text": [
      "Time taken: 0:16:06.204096\n"
     ]
    }
   ],
   "source": [
    "import tqdm\n",
    "import spacy\n",
    "import numpy as np\n",
    "# en_vectors_web_lg, which includes over 1 million unique vectors.\n",
    "nlp = spacy.load('en_core_web_sm')\n",
    "\n",
    "start = datetime.now()\n",
    "\n",
    "final_string_pos = []\n",
    "verb_string_text = []\n",
    "# https://github.com/noamraph/tqdm\n",
    "# tqdm is used to print the progress bar\n",
    "for qu1 in (data['Cleaned_sysnopsis2']):\n",
    "    str1=[]\n",
    "    pos=[]\n",
    "    verb_text=[]\n",
    "    doc = nlp(qu1)\n",
    "    for token in doc:\n",
    "        x= token.pos_\n",
    "        pos.append(x)\n",
    "        text =token.text\n",
    "        verb_text.append(text)\n",
    "#         print(\"sentence\",text)\n",
    "#         for i,part_of_speech in enumerate(x.split(',')):\n",
    "#             print(i,part_of_speech)\n",
    "#             if part_of_speech == 'VERB':  \n",
    "#                 print('Verb found')\n",
    "#                 print('verb in text',verb_text[i])\n",
    "#                 text =token.text\n",
    "#                 print(\"sentence\",text)\n",
    "#                 for j,verb_text in enumerate(text.split(',')):\n",
    "                    \n",
    "#                     print(verb_text)\n",
    "#                     verb_token.append(verb_text[i])\n",
    "                \n",
    "#     str1(pos)\n",
    "    final_string_pos.append(pos)\n",
    "    verb_string_text.append(verb_text)\n",
    "data['pos']=final_string_pos #adding a column of CleanedText which displays the d\n",
    "# data['pos']=data['pos'].str.decode(\"utf-8\")\n",
    "\n",
    "data['verb_text'] = verb_string_text\n",
    "# data['verb_text'] = data['verb_text'].str.decode('utf-8')\n",
    "\n",
    "print(\"Time taken:\",datetime.now() - start)"
   ]
  },
  {
   "cell_type": "code",
   "execution_count": 125,
   "metadata": {},
   "outputs": [
    {
     "data": {
      "text/html": [
       "<div>\n",
       "<style scoped>\n",
       "    .dataframe tbody tr th:only-of-type {\n",
       "        vertical-align: middle;\n",
       "    }\n",
       "\n",
       "    .dataframe tbody tr th {\n",
       "        vertical-align: top;\n",
       "    }\n",
       "\n",
       "    .dataframe thead th {\n",
       "        text-align: right;\n",
       "    }\n",
       "</style>\n",
       "<table border=\"1\" class=\"dataframe\">\n",
       "  <thead>\n",
       "    <tr style=\"text-align: right;\">\n",
       "      <th></th>\n",
       "      <th>imdb_id</th>\n",
       "      <th>title</th>\n",
       "      <th>plot_synopsis</th>\n",
       "      <th>tags</th>\n",
       "      <th>split</th>\n",
       "      <th>synopsis_source</th>\n",
       "      <th>polarity</th>\n",
       "      <th>tags_count</th>\n",
       "      <th>pos</th>\n",
       "      <th>verb_text</th>\n",
       "      <th>verb_new</th>\n",
       "      <th>Cleaned_sysnopsis2</th>\n",
       "    </tr>\n",
       "  </thead>\n",
       "  <tbody>\n",
       "    <tr>\n",
       "      <th>0</th>\n",
       "      <td>tt0057603</td>\n",
       "      <td>I tre volti della paura</td>\n",
       "      <td>Note: this synopsis is for the orginal Italian...</td>\n",
       "      <td>cult, horror, gothic, murder, atmospheric</td>\n",
       "      <td>train</td>\n",
       "      <td>imdb</td>\n",
       "      <td>0.073613</td>\n",
       "      <td>5</td>\n",
       "      <td>[NOUN, PUNCT, VERB, ADJ, ADJ, NOUN, VERB, ADJ,...</td>\n",
       "      <td>[note, :, synopsis, orginal, italian, release,...</td>\n",
       "      <td>[[Note], [is], [introduces], [known], [is], [p...</td>\n",
       "      <td>note: synopsis orginal italian release segment...</td>\n",
       "    </tr>\n",
       "    <tr>\n",
       "      <th>1</th>\n",
       "      <td>tt1733125</td>\n",
       "      <td>Dungeons &amp; Dragons: The Book of Vile Darkness</td>\n",
       "      <td>Two thousand years ago, Nhagruul the Foul, a s...</td>\n",
       "      <td>violence</td>\n",
       "      <td>train</td>\n",
       "      <td>imdb</td>\n",
       "      <td>-0.043939</td>\n",
       "      <td>1</td>\n",
       "      <td>[NUM, NUM, NOUN, ADV, PUNCT, NOUN, ADV, PUNCT,...</td>\n",
       "      <td>[two, thousand, years, ago, ,, nhagruul, foul,...</td>\n",
       "      <td>[[reveled], [corrupting], [neared], [was], [di...</td>\n",
       "      <td>two thousand years ago, nhagruul foul, sorcere...</td>\n",
       "    </tr>\n",
       "    <tr>\n",
       "      <th>2</th>\n",
       "      <td>tt0033045</td>\n",
       "      <td>The Shop Around the Corner</td>\n",
       "      <td>Matuschek's, a gift store in Budapest, is the ...</td>\n",
       "      <td>romantic</td>\n",
       "      <td>test</td>\n",
       "      <td>imdb</td>\n",
       "      <td>0.005330</td>\n",
       "      <td>1</td>\n",
       "      <td>[PROPN, PART, PUNCT, NOUN, NOUN, ADJ, PUNCT, N...</td>\n",
       "      <td>[matuschek, 's, ,, gift, store, budapest, ,, w...</td>\n",
       "      <td>[[is], [irritate], [is], [tempered], [has], [t...</td>\n",
       "      <td>matuschek's, gift store budapest, workplace al...</td>\n",
       "    </tr>\n",
       "    <tr>\n",
       "      <th>3</th>\n",
       "      <td>tt0113862</td>\n",
       "      <td>Mr. Holland's Opus</td>\n",
       "      <td>Glenn Holland, not a morning person by anyone'...</td>\n",
       "      <td>inspiring, romantic, stupid, feel-good</td>\n",
       "      <td>train</td>\n",
       "      <td>imdb</td>\n",
       "      <td>0.117596</td>\n",
       "      <td>4</td>\n",
       "      <td>[NOUN, NOUN, PUNCT, NOUN, NOUN, NOUN, PART, NO...</td>\n",
       "      <td>[glenn, holland, ,, morning, person, anyone, '...</td>\n",
       "      <td>[[is], [woken], [has], [taken], [renamed], [in...</td>\n",
       "      <td>glenn holland, morning person anyone's standar...</td>\n",
       "    </tr>\n",
       "    <tr>\n",
       "      <th>4</th>\n",
       "      <td>tt0086250</td>\n",
       "      <td>Scarface</td>\n",
       "      <td>In May 1980, a Cuban man named Tony Montana (A...</td>\n",
       "      <td>cruelty, murder, dramatic, cult, violence, atm...</td>\n",
       "      <td>val</td>\n",
       "      <td>imdb</td>\n",
       "      <td>0.009198</td>\n",
       "      <td>10</td>\n",
       "      <td>[VERB, NUM, PUNCT, ADJ, NOUN, VERB, ADJ, NOUN,...</td>\n",
       "      <td>[may, 1980, ,, cuban, man, named, tony, montan...</td>\n",
       "      <td>[[named], [claims], [is], [departing], [questi...</td>\n",
       "      <td>may 1980, cuban man named tony montana (al pac...</td>\n",
       "    </tr>\n",
       "  </tbody>\n",
       "</table>\n",
       "</div>"
      ],
      "text/plain": [
       "     imdb_id                                          title  \\\n",
       "0  tt0057603                        I tre volti della paura   \n",
       "1  tt1733125  Dungeons & Dragons: The Book of Vile Darkness   \n",
       "2  tt0033045                     The Shop Around the Corner   \n",
       "3  tt0113862                             Mr. Holland's Opus   \n",
       "4  tt0086250                                       Scarface   \n",
       "\n",
       "                                       plot_synopsis  \\\n",
       "0  Note: this synopsis is for the orginal Italian...   \n",
       "1  Two thousand years ago, Nhagruul the Foul, a s...   \n",
       "2  Matuschek's, a gift store in Budapest, is the ...   \n",
       "3  Glenn Holland, not a morning person by anyone'...   \n",
       "4  In May 1980, a Cuban man named Tony Montana (A...   \n",
       "\n",
       "                                                tags  split synopsis_source  \\\n",
       "0          cult, horror, gothic, murder, atmospheric  train            imdb   \n",
       "1                                           violence  train            imdb   \n",
       "2                                           romantic   test            imdb   \n",
       "3             inspiring, romantic, stupid, feel-good  train            imdb   \n",
       "4  cruelty, murder, dramatic, cult, violence, atm...    val            imdb   \n",
       "\n",
       "   polarity  tags_count                                                pos  \\\n",
       "0  0.073613           5  [NOUN, PUNCT, VERB, ADJ, ADJ, NOUN, VERB, ADJ,...   \n",
       "1 -0.043939           1  [NUM, NUM, NOUN, ADV, PUNCT, NOUN, ADV, PUNCT,...   \n",
       "2  0.005330           1  [PROPN, PART, PUNCT, NOUN, NOUN, ADJ, PUNCT, N...   \n",
       "3  0.117596           4  [NOUN, NOUN, PUNCT, NOUN, NOUN, NOUN, PART, NO...   \n",
       "4  0.009198          10  [VERB, NUM, PUNCT, ADJ, NOUN, VERB, ADJ, NOUN,...   \n",
       "\n",
       "                                           verb_text  \\\n",
       "0  [note, :, synopsis, orginal, italian, release,...   \n",
       "1  [two, thousand, years, ago, ,, nhagruul, foul,...   \n",
       "2  [matuschek, 's, ,, gift, store, budapest, ,, w...   \n",
       "3  [glenn, holland, ,, morning, person, anyone, '...   \n",
       "4  [may, 1980, ,, cuban, man, named, tony, montan...   \n",
       "\n",
       "                                            verb_new  \\\n",
       "0  [[Note], [is], [introduces], [known], [is], [p...   \n",
       "1  [[reveled], [corrupting], [neared], [was], [di...   \n",
       "2  [[is], [irritate], [is], [tempered], [has], [t...   \n",
       "3  [[is], [woken], [has], [taken], [renamed], [in...   \n",
       "4  [[named], [claims], [is], [departing], [questi...   \n",
       "\n",
       "                                  Cleaned_sysnopsis2  \n",
       "0  note: synopsis orginal italian release segment...  \n",
       "1  two thousand years ago, nhagruul foul, sorcere...  \n",
       "2  matuschek's, gift store budapest, workplace al...  \n",
       "3  glenn holland, morning person anyone's standar...  \n",
       "4  may 1980, cuban man named tony montana (al pac...  "
      ]
     },
     "execution_count": 125,
     "metadata": {},
     "output_type": "execute_result"
    }
   ],
   "source": [
    "data.head()"
   ]
  },
  {
   "cell_type": "code",
   "execution_count": 132,
   "metadata": {},
   "outputs": [],
   "source": [
    "verb_text=[]\n",
    "for x,y in zip(list(data['verb_text']),data['pos']):\n",
    "    pos_text=[]\n",
    "    for i,pos in enumerate(y):\n",
    "        if pos=='VERB':\n",
    "#             print(x[i],i)\n",
    "            pos_text.append(x[i])\n",
    "#             for j,verb_ in enumerate(list(x)):\n",
    "#                 print(j)\n",
    "    str1 = \", \".join(pos_text)\n",
    "    verb_text.append(str1)\n",
    "    \n",
    "data['verb_new']=verb_text    "
   ]
  },
  {
   "cell_type": "code",
   "execution_count": 133,
   "metadata": {},
   "outputs": [
    {
     "data": {
      "text/html": [
       "<div>\n",
       "<style scoped>\n",
       "    .dataframe tbody tr th:only-of-type {\n",
       "        vertical-align: middle;\n",
       "    }\n",
       "\n",
       "    .dataframe tbody tr th {\n",
       "        vertical-align: top;\n",
       "    }\n",
       "\n",
       "    .dataframe thead th {\n",
       "        text-align: right;\n",
       "    }\n",
       "</style>\n",
       "<table border=\"1\" class=\"dataframe\">\n",
       "  <thead>\n",
       "    <tr style=\"text-align: right;\">\n",
       "      <th></th>\n",
       "      <th>imdb_id</th>\n",
       "      <th>title</th>\n",
       "      <th>plot_synopsis</th>\n",
       "      <th>tags</th>\n",
       "      <th>split</th>\n",
       "      <th>synopsis_source</th>\n",
       "      <th>polarity</th>\n",
       "      <th>tags_count</th>\n",
       "      <th>pos</th>\n",
       "      <th>verb_text</th>\n",
       "      <th>verb_new</th>\n",
       "      <th>Cleaned_sysnopsis2</th>\n",
       "    </tr>\n",
       "  </thead>\n",
       "  <tbody>\n",
       "    <tr>\n",
       "      <th>0</th>\n",
       "      <td>tt0057603</td>\n",
       "      <td>I tre volti della paura</td>\n",
       "      <td>Note: this synopsis is for the orginal Italian...</td>\n",
       "      <td>cult, horror, gothic, murder, atmospheric</td>\n",
       "      <td>train</td>\n",
       "      <td>imdb</td>\n",
       "      <td>0.073613</td>\n",
       "      <td>5</td>\n",
       "      <td>[NOUN, PUNCT, VERB, ADJ, ADJ, NOUN, VERB, ADJ,...</td>\n",
       "      <td>[note, :, synopsis, orginal, italian, release,...</td>\n",
       "      <td>synopsis, segments, known, fear'.the, priced, ...</td>\n",
       "      <td>note: synopsis orginal italian release segment...</td>\n",
       "    </tr>\n",
       "    <tr>\n",
       "      <th>1</th>\n",
       "      <td>tt1733125</td>\n",
       "      <td>Dungeons &amp; Dragons: The Book of Vile Darkness</td>\n",
       "      <td>Two thousand years ago, Nhagruul the Foul, a s...</td>\n",
       "      <td>violence</td>\n",
       "      <td>train</td>\n",
       "      <td>imdb</td>\n",
       "      <td>-0.043939</td>\n",
       "      <td>1</td>\n",
       "      <td>[NUM, NUM, NOUN, ADV, PUNCT, NOUN, ADV, PUNCT,...</td>\n",
       "      <td>[two, thousand, years, ago, ,, nhagruul, foul,...</td>\n",
       "      <td>reveled, corrupting, neared, dismayed, consume...</td>\n",
       "      <td>two thousand years ago, nhagruul foul, sorcere...</td>\n",
       "    </tr>\n",
       "    <tr>\n",
       "      <th>2</th>\n",
       "      <td>tt0033045</td>\n",
       "      <td>The Shop Around the Corner</td>\n",
       "      <td>Matuschek's, a gift store in Budapest, is the ...</td>\n",
       "      <td>romantic</td>\n",
       "      <td>test</td>\n",
       "      <td>imdb</td>\n",
       "      <td>0.005330</td>\n",
       "      <td>1</td>\n",
       "      <td>[PROPN, PART, PUNCT, NOUN, NOUN, ADJ, PUNCT, N...</td>\n",
       "      <td>[matuschek, 's, ,, gift, store, budapest, ,, w...</td>\n",
       "      <td>hi, irritate, tempered, searching, sent, work,...</td>\n",
       "      <td>matuschek's, gift store budapest, workplace al...</td>\n",
       "    </tr>\n",
       "    <tr>\n",
       "      <th>3</th>\n",
       "      <td>tt0113862</td>\n",
       "      <td>Mr. Holland's Opus</td>\n",
       "      <td>Glenn Holland, not a morning person by anyone'...</td>\n",
       "      <td>inspiring, romantic, stupid, feel-good</td>\n",
       "      <td>train</td>\n",
       "      <td>imdb</td>\n",
       "      <td>0.117596</td>\n",
       "      <td>4</td>\n",
       "      <td>[NOUN, NOUN, PUNCT, NOUN, NOUN, NOUN, PART, NO...</td>\n",
       "      <td>[glenn, holland, ,, morning, person, anyone, '...</td>\n",
       "      <td>woken, taken, renamed, intends, hopes, finds, ...</td>\n",
       "      <td>glenn holland, morning person anyone's standar...</td>\n",
       "    </tr>\n",
       "    <tr>\n",
       "      <th>4</th>\n",
       "      <td>tt0086250</td>\n",
       "      <td>Scarface</td>\n",
       "      <td>In May 1980, a Cuban man named Tony Montana (A...</td>\n",
       "      <td>cruelty, murder, dramatic, cult, violence, atm...</td>\n",
       "      <td>val</td>\n",
       "      <td>imdb</td>\n",
       "      <td>0.009198</td>\n",
       "      <td>10</td>\n",
       "      <td>[VERB, NUM, PUNCT, ADJ, NOUN, VERB, ADJ, NOUN,...</td>\n",
       "      <td>[may, 1980, ,, cuban, man, named, tony, montan...</td>\n",
       "      <td>may, named, claims, departing, questioned, tal...</td>\n",
       "      <td>may 1980, cuban man named tony montana (al pac...</td>\n",
       "    </tr>\n",
       "  </tbody>\n",
       "</table>\n",
       "</div>"
      ],
      "text/plain": [
       "     imdb_id                                          title  \\\n",
       "0  tt0057603                        I tre volti della paura   \n",
       "1  tt1733125  Dungeons & Dragons: The Book of Vile Darkness   \n",
       "2  tt0033045                     The Shop Around the Corner   \n",
       "3  tt0113862                             Mr. Holland's Opus   \n",
       "4  tt0086250                                       Scarface   \n",
       "\n",
       "                                       plot_synopsis  \\\n",
       "0  Note: this synopsis is for the orginal Italian...   \n",
       "1  Two thousand years ago, Nhagruul the Foul, a s...   \n",
       "2  Matuschek's, a gift store in Budapest, is the ...   \n",
       "3  Glenn Holland, not a morning person by anyone'...   \n",
       "4  In May 1980, a Cuban man named Tony Montana (A...   \n",
       "\n",
       "                                                tags  split synopsis_source  \\\n",
       "0          cult, horror, gothic, murder, atmospheric  train            imdb   \n",
       "1                                           violence  train            imdb   \n",
       "2                                           romantic   test            imdb   \n",
       "3             inspiring, romantic, stupid, feel-good  train            imdb   \n",
       "4  cruelty, murder, dramatic, cult, violence, atm...    val            imdb   \n",
       "\n",
       "   polarity  tags_count                                                pos  \\\n",
       "0  0.073613           5  [NOUN, PUNCT, VERB, ADJ, ADJ, NOUN, VERB, ADJ,...   \n",
       "1 -0.043939           1  [NUM, NUM, NOUN, ADV, PUNCT, NOUN, ADV, PUNCT,...   \n",
       "2  0.005330           1  [PROPN, PART, PUNCT, NOUN, NOUN, ADJ, PUNCT, N...   \n",
       "3  0.117596           4  [NOUN, NOUN, PUNCT, NOUN, NOUN, NOUN, PART, NO...   \n",
       "4  0.009198          10  [VERB, NUM, PUNCT, ADJ, NOUN, VERB, ADJ, NOUN,...   \n",
       "\n",
       "                                           verb_text  \\\n",
       "0  [note, :, synopsis, orginal, italian, release,...   \n",
       "1  [two, thousand, years, ago, ,, nhagruul, foul,...   \n",
       "2  [matuschek, 's, ,, gift, store, budapest, ,, w...   \n",
       "3  [glenn, holland, ,, morning, person, anyone, '...   \n",
       "4  [may, 1980, ,, cuban, man, named, tony, montan...   \n",
       "\n",
       "                                            verb_new  \\\n",
       "0  synopsis, segments, known, fear'.the, priced, ...   \n",
       "1  reveled, corrupting, neared, dismayed, consume...   \n",
       "2  hi, irritate, tempered, searching, sent, work,...   \n",
       "3  woken, taken, renamed, intends, hopes, finds, ...   \n",
       "4  may, named, claims, departing, questioned, tal...   \n",
       "\n",
       "                                  Cleaned_sysnopsis2  \n",
       "0  note: synopsis orginal italian release segment...  \n",
       "1  two thousand years ago, nhagruul foul, sorcere...  \n",
       "2  matuschek's, gift store budapest, workplace al...  \n",
       "3  glenn holland, morning person anyone's standar...  \n",
       "4  may 1980, cuban man named tony montana (al pac...  "
      ]
     },
     "execution_count": 133,
     "metadata": {},
     "output_type": "execute_result"
    }
   ],
   "source": [
    "data.head()"
   ]
  },
  {
   "cell_type": "markdown",
   "metadata": {},
   "source": [
    "## Cleaning and Pre-processing of tags"
   ]
  },
  {
   "cell_type": "markdown",
   "metadata": {},
   "source": [
    "## 1.Pre-processing"
   ]
  },
  {
   "cell_type": "code",
   "execution_count": 135,
   "metadata": {},
   "outputs": [],
   "source": [
    "from nltk.corpus import stopwords\n",
    "from nltk.stem.snowball import SnowballStemmer\n",
    "import nltk\n",
    "\n",
    "stop_words = set(stopwords.words('english'))\n",
    "sno = nltk.stem.SnowballStemmer('english')"
   ]
  },
  {
   "cell_type": "code",
   "execution_count": 136,
   "metadata": {},
   "outputs": [],
   "source": [
    "def cleanhtml(sentence): #function to clean the word of any html-tags\n",
    "    cleanr = re.compile('<.*?>')\n",
    "    cleantext = re.sub(cleanr, ' ', sentence)\n",
    "    return cleantext"
   ]
  },
  {
   "cell_type": "code",
   "execution_count": 137,
   "metadata": {},
   "outputs": [],
   "source": [
    "def cleanpunc(sentence): #function to clean the word of any punctuation or special char\n",
    "    cleaned = re.sub(r'[?|!|\\'|\"|#]',r'',sentence)\n",
    "    cleaned = re.sub(r'[.|,|)|(|\\|/]',r' ',cleaned)\n",
    "    return cleaned"
   ]
  },
  {
   "cell_type": "code",
   "execution_count": 138,
   "metadata": {},
   "outputs": [],
   "source": [
    "final_string=[]\n",
    "for sent in (data['plot_synopsis']):\n",
    "    filtered_sentence=[]\n",
    "#print(sent);\n",
    "    sent=cleanhtml(sent) # remove HTMl tags\n",
    "    for w in sent.split():\n",
    "        for cleaned_words in cleanpunc(w).split():\n",
    "            if((cleaned_words.isalpha()) & (len(cleaned_words)>2)):\n",
    "                if(cleaned_words.lower() not in stop_words):\n",
    "                    s=(sno.stem(cleaned_words.lower())).encode('utf8')\n",
    "                    filtered_sentence.append(s)\n",
    "    str1 = b\" \".join(filtered_sentence) \n",
    "\n",
    "    final_string.append(str1)\n",
    "data['Cleaned_sysnopsis']=final_string #adding a column of CleanedText which displays the d\n",
    "data['Cleaned_sysnopsis']=data['Cleaned_sysnopsis'].str.decode(\"utf-8\")"
   ]
  },
  {
   "cell_type": "code",
   "execution_count": 139,
   "metadata": {},
   "outputs": [
    {
     "data": {
      "text/html": [
       "<div>\n",
       "<style scoped>\n",
       "    .dataframe tbody tr th:only-of-type {\n",
       "        vertical-align: middle;\n",
       "    }\n",
       "\n",
       "    .dataframe tbody tr th {\n",
       "        vertical-align: top;\n",
       "    }\n",
       "\n",
       "    .dataframe thead th {\n",
       "        text-align: right;\n",
       "    }\n",
       "</style>\n",
       "<table border=\"1\" class=\"dataframe\">\n",
       "  <thead>\n",
       "    <tr style=\"text-align: right;\">\n",
       "      <th></th>\n",
       "      <th>imdb_id</th>\n",
       "      <th>title</th>\n",
       "      <th>plot_synopsis</th>\n",
       "      <th>tags</th>\n",
       "      <th>split</th>\n",
       "      <th>synopsis_source</th>\n",
       "      <th>polarity</th>\n",
       "      <th>tags_count</th>\n",
       "      <th>pos</th>\n",
       "      <th>verb_text</th>\n",
       "      <th>verb_new</th>\n",
       "      <th>Cleaned_sysnopsis2</th>\n",
       "      <th>Cleaned_sysnopsis</th>\n",
       "    </tr>\n",
       "  </thead>\n",
       "  <tbody>\n",
       "    <tr>\n",
       "      <th>0</th>\n",
       "      <td>tt0057603</td>\n",
       "      <td>I tre volti della paura</td>\n",
       "      <td>Note: this synopsis is for the orginal Italian...</td>\n",
       "      <td>cult, horror, gothic, murder, atmospheric</td>\n",
       "      <td>train</td>\n",
       "      <td>imdb</td>\n",
       "      <td>0.073613</td>\n",
       "      <td>5</td>\n",
       "      <td>[NOUN, PUNCT, VERB, ADJ, ADJ, NOUN, VERB, ADJ,...</td>\n",
       "      <td>[note, :, synopsis, orginal, italian, release,...</td>\n",
       "      <td>synopsis, segments, known, fear'.the, priced, ...</td>\n",
       "      <td>note: synopsis orginal italian release segment...</td>\n",
       "      <td>synopsi orgin italian releas segment certain o...</td>\n",
       "    </tr>\n",
       "    <tr>\n",
       "      <th>1</th>\n",
       "      <td>tt1733125</td>\n",
       "      <td>Dungeons &amp; Dragons: The Book of Vile Darkness</td>\n",
       "      <td>Two thousand years ago, Nhagruul the Foul, a s...</td>\n",
       "      <td>violence</td>\n",
       "      <td>train</td>\n",
       "      <td>imdb</td>\n",
       "      <td>-0.043939</td>\n",
       "      <td>1</td>\n",
       "      <td>[NUM, NUM, NOUN, ADV, PUNCT, NOUN, ADV, PUNCT,...</td>\n",
       "      <td>[two, thousand, years, ago, ,, nhagruul, foul,...</td>\n",
       "      <td>reveled, corrupting, neared, dismayed, consume...</td>\n",
       "      <td>two thousand years ago, nhagruul foul, sorcere...</td>\n",
       "      <td>two thousand year ago nhagruul foul sorcer rev...</td>\n",
       "    </tr>\n",
       "    <tr>\n",
       "      <th>2</th>\n",
       "      <td>tt0033045</td>\n",
       "      <td>The Shop Around the Corner</td>\n",
       "      <td>Matuschek's, a gift store in Budapest, is the ...</td>\n",
       "      <td>romantic</td>\n",
       "      <td>test</td>\n",
       "      <td>imdb</td>\n",
       "      <td>0.005330</td>\n",
       "      <td>1</td>\n",
       "      <td>[PROPN, PART, PUNCT, NOUN, NOUN, ADJ, PUNCT, N...</td>\n",
       "      <td>[matuschek, 's, ,, gift, store, budapest, ,, w...</td>\n",
       "      <td>hi, irritate, tempered, searching, sent, work,...</td>\n",
       "      <td>matuschek's, gift store budapest, workplace al...</td>\n",
       "      <td>matuschek gift store budapest workplac alfr kr...</td>\n",
       "    </tr>\n",
       "    <tr>\n",
       "      <th>3</th>\n",
       "      <td>tt0113862</td>\n",
       "      <td>Mr. Holland's Opus</td>\n",
       "      <td>Glenn Holland, not a morning person by anyone'...</td>\n",
       "      <td>inspiring, romantic, stupid, feel-good</td>\n",
       "      <td>train</td>\n",
       "      <td>imdb</td>\n",
       "      <td>0.117596</td>\n",
       "      <td>4</td>\n",
       "      <td>[NOUN, NOUN, PUNCT, NOUN, NOUN, NOUN, PART, NO...</td>\n",
       "      <td>[glenn, holland, ,, morning, person, anyone, '...</td>\n",
       "      <td>woken, taken, renamed, intends, hopes, finds, ...</td>\n",
       "      <td>glenn holland, morning person anyone's standar...</td>\n",
       "      <td>glenn holland morn person anyon standard woken...</td>\n",
       "    </tr>\n",
       "    <tr>\n",
       "      <th>4</th>\n",
       "      <td>tt0086250</td>\n",
       "      <td>Scarface</td>\n",
       "      <td>In May 1980, a Cuban man named Tony Montana (A...</td>\n",
       "      <td>cruelty, murder, dramatic, cult, violence, atm...</td>\n",
       "      <td>val</td>\n",
       "      <td>imdb</td>\n",
       "      <td>0.009198</td>\n",
       "      <td>10</td>\n",
       "      <td>[VERB, NUM, PUNCT, ADJ, NOUN, VERB, ADJ, NOUN,...</td>\n",
       "      <td>[may, 1980, ,, cuban, man, named, tony, montan...</td>\n",
       "      <td>may, named, claims, departing, questioned, tal...</td>\n",
       "      <td>may 1980, cuban man named tony montana (al pac...</td>\n",
       "      <td>may cuban man name toni montana pacino claim a...</td>\n",
       "    </tr>\n",
       "  </tbody>\n",
       "</table>\n",
       "</div>"
      ],
      "text/plain": [
       "     imdb_id                                          title  \\\n",
       "0  tt0057603                        I tre volti della paura   \n",
       "1  tt1733125  Dungeons & Dragons: The Book of Vile Darkness   \n",
       "2  tt0033045                     The Shop Around the Corner   \n",
       "3  tt0113862                             Mr. Holland's Opus   \n",
       "4  tt0086250                                       Scarface   \n",
       "\n",
       "                                       plot_synopsis  \\\n",
       "0  Note: this synopsis is for the orginal Italian...   \n",
       "1  Two thousand years ago, Nhagruul the Foul, a s...   \n",
       "2  Matuschek's, a gift store in Budapest, is the ...   \n",
       "3  Glenn Holland, not a morning person by anyone'...   \n",
       "4  In May 1980, a Cuban man named Tony Montana (A...   \n",
       "\n",
       "                                                tags  split synopsis_source  \\\n",
       "0          cult, horror, gothic, murder, atmospheric  train            imdb   \n",
       "1                                           violence  train            imdb   \n",
       "2                                           romantic   test            imdb   \n",
       "3             inspiring, romantic, stupid, feel-good  train            imdb   \n",
       "4  cruelty, murder, dramatic, cult, violence, atm...    val            imdb   \n",
       "\n",
       "   polarity  tags_count                                                pos  \\\n",
       "0  0.073613           5  [NOUN, PUNCT, VERB, ADJ, ADJ, NOUN, VERB, ADJ,...   \n",
       "1 -0.043939           1  [NUM, NUM, NOUN, ADV, PUNCT, NOUN, ADV, PUNCT,...   \n",
       "2  0.005330           1  [PROPN, PART, PUNCT, NOUN, NOUN, ADJ, PUNCT, N...   \n",
       "3  0.117596           4  [NOUN, NOUN, PUNCT, NOUN, NOUN, NOUN, PART, NO...   \n",
       "4  0.009198          10  [VERB, NUM, PUNCT, ADJ, NOUN, VERB, ADJ, NOUN,...   \n",
       "\n",
       "                                           verb_text  \\\n",
       "0  [note, :, synopsis, orginal, italian, release,...   \n",
       "1  [two, thousand, years, ago, ,, nhagruul, foul,...   \n",
       "2  [matuschek, 's, ,, gift, store, budapest, ,, w...   \n",
       "3  [glenn, holland, ,, morning, person, anyone, '...   \n",
       "4  [may, 1980, ,, cuban, man, named, tony, montan...   \n",
       "\n",
       "                                            verb_new  \\\n",
       "0  synopsis, segments, known, fear'.the, priced, ...   \n",
       "1  reveled, corrupting, neared, dismayed, consume...   \n",
       "2  hi, irritate, tempered, searching, sent, work,...   \n",
       "3  woken, taken, renamed, intends, hopes, finds, ...   \n",
       "4  may, named, claims, departing, questioned, tal...   \n",
       "\n",
       "                                  Cleaned_sysnopsis2  \\\n",
       "0  note: synopsis orginal italian release segment...   \n",
       "1  two thousand years ago, nhagruul foul, sorcere...   \n",
       "2  matuschek's, gift store budapest, workplace al...   \n",
       "3  glenn holland, morning person anyone's standar...   \n",
       "4  may 1980, cuban man named tony montana (al pac...   \n",
       "\n",
       "                                   Cleaned_sysnopsis  \n",
       "0  synopsi orgin italian releas segment certain o...  \n",
       "1  two thousand year ago nhagruul foul sorcer rev...  \n",
       "2  matuschek gift store budapest workplac alfr kr...  \n",
       "3  glenn holland morn person anyon standard woken...  \n",
       "4  may cuban man name toni montana pacino claim a...  "
      ]
     },
     "execution_count": 139,
     "metadata": {},
     "output_type": "execute_result"
    }
   ],
   "source": [
    "data.head()"
   ]
  },
  {
   "cell_type": "code",
   "execution_count": 140,
   "metadata": {},
   "outputs": [],
   "source": [
    "import pickle\n",
    "data.to_pickle('./movie_data.csv')"
   ]
  },
  {
   "cell_type": "code",
   "execution_count": 33,
   "metadata": {},
   "outputs": [],
   "source": [
    "import pickle\n",
    "movie_data = pd.read_pickle('./movie_data.csv')"
   ]
  },
  {
   "cell_type": "code",
   "execution_count": 34,
   "metadata": {},
   "outputs": [
    {
     "data": {
      "text/html": [
       "<div>\n",
       "<style scoped>\n",
       "    .dataframe tbody tr th:only-of-type {\n",
       "        vertical-align: middle;\n",
       "    }\n",
       "\n",
       "    .dataframe tbody tr th {\n",
       "        vertical-align: top;\n",
       "    }\n",
       "\n",
       "    .dataframe thead th {\n",
       "        text-align: right;\n",
       "    }\n",
       "</style>\n",
       "<table border=\"1\" class=\"dataframe\">\n",
       "  <thead>\n",
       "    <tr style=\"text-align: right;\">\n",
       "      <th></th>\n",
       "      <th>imdb_id</th>\n",
       "      <th>title</th>\n",
       "      <th>plot_synopsis</th>\n",
       "      <th>tags</th>\n",
       "      <th>split</th>\n",
       "      <th>synopsis_source</th>\n",
       "      <th>polarity</th>\n",
       "      <th>tags_count</th>\n",
       "      <th>pos</th>\n",
       "      <th>verb_text</th>\n",
       "      <th>verb_new</th>\n",
       "      <th>Cleaned_sysnopsis2</th>\n",
       "      <th>Cleaned_sysnopsis</th>\n",
       "    </tr>\n",
       "  </thead>\n",
       "  <tbody>\n",
       "    <tr>\n",
       "      <th>0</th>\n",
       "      <td>tt0057603</td>\n",
       "      <td>I tre volti della paura</td>\n",
       "      <td>Note: this synopsis is for the orginal Italian...</td>\n",
       "      <td>cult, horror, gothic, murder, atmospheric</td>\n",
       "      <td>train</td>\n",
       "      <td>imdb</td>\n",
       "      <td>0.073613</td>\n",
       "      <td>5</td>\n",
       "      <td>[NOUN, PUNCT, VERB, ADJ, ADJ, NOUN, VERB, ADJ,...</td>\n",
       "      <td>[note, :, synopsis, orginal, italian, release,...</td>\n",
       "      <td>synopsis, segments, known, fear'.the, priced, ...</td>\n",
       "      <td>note: synopsis orginal italian release segment...</td>\n",
       "      <td>synopsi orgin italian releas segment certain o...</td>\n",
       "    </tr>\n",
       "    <tr>\n",
       "      <th>1</th>\n",
       "      <td>tt1733125</td>\n",
       "      <td>Dungeons &amp; Dragons: The Book of Vile Darkness</td>\n",
       "      <td>Two thousand years ago, Nhagruul the Foul, a s...</td>\n",
       "      <td>violence</td>\n",
       "      <td>train</td>\n",
       "      <td>imdb</td>\n",
       "      <td>-0.043939</td>\n",
       "      <td>1</td>\n",
       "      <td>[NUM, NUM, NOUN, ADV, PUNCT, NOUN, ADV, PUNCT,...</td>\n",
       "      <td>[two, thousand, years, ago, ,, nhagruul, foul,...</td>\n",
       "      <td>reveled, corrupting, neared, dismayed, consume...</td>\n",
       "      <td>two thousand years ago, nhagruul foul, sorcere...</td>\n",
       "      <td>two thousand year ago nhagruul foul sorcer rev...</td>\n",
       "    </tr>\n",
       "    <tr>\n",
       "      <th>2</th>\n",
       "      <td>tt0033045</td>\n",
       "      <td>The Shop Around the Corner</td>\n",
       "      <td>Matuschek's, a gift store in Budapest, is the ...</td>\n",
       "      <td>romantic</td>\n",
       "      <td>test</td>\n",
       "      <td>imdb</td>\n",
       "      <td>0.005330</td>\n",
       "      <td>1</td>\n",
       "      <td>[PROPN, PART, PUNCT, NOUN, NOUN, ADJ, PUNCT, N...</td>\n",
       "      <td>[matuschek, 's, ,, gift, store, budapest, ,, w...</td>\n",
       "      <td>hi, irritate, tempered, searching, sent, work,...</td>\n",
       "      <td>matuschek's, gift store budapest, workplace al...</td>\n",
       "      <td>matuschek gift store budapest workplac alfr kr...</td>\n",
       "    </tr>\n",
       "    <tr>\n",
       "      <th>3</th>\n",
       "      <td>tt0113862</td>\n",
       "      <td>Mr. Holland's Opus</td>\n",
       "      <td>Glenn Holland, not a morning person by anyone'...</td>\n",
       "      <td>inspiring, romantic, stupid, feel-good</td>\n",
       "      <td>train</td>\n",
       "      <td>imdb</td>\n",
       "      <td>0.117596</td>\n",
       "      <td>4</td>\n",
       "      <td>[NOUN, NOUN, PUNCT, NOUN, NOUN, NOUN, PART, NO...</td>\n",
       "      <td>[glenn, holland, ,, morning, person, anyone, '...</td>\n",
       "      <td>woken, taken, renamed, intends, hopes, finds, ...</td>\n",
       "      <td>glenn holland, morning person anyone's standar...</td>\n",
       "      <td>glenn holland morn person anyon standard woken...</td>\n",
       "    </tr>\n",
       "    <tr>\n",
       "      <th>4</th>\n",
       "      <td>tt0086250</td>\n",
       "      <td>Scarface</td>\n",
       "      <td>In May 1980, a Cuban man named Tony Montana (A...</td>\n",
       "      <td>cruelty, murder, dramatic, cult, violence, atm...</td>\n",
       "      <td>val</td>\n",
       "      <td>imdb</td>\n",
       "      <td>0.009198</td>\n",
       "      <td>10</td>\n",
       "      <td>[VERB, NUM, PUNCT, ADJ, NOUN, VERB, ADJ, NOUN,...</td>\n",
       "      <td>[may, 1980, ,, cuban, man, named, tony, montan...</td>\n",
       "      <td>may, named, claims, departing, questioned, tal...</td>\n",
       "      <td>may 1980, cuban man named tony montana (al pac...</td>\n",
       "      <td>may cuban man name toni montana pacino claim a...</td>\n",
       "    </tr>\n",
       "  </tbody>\n",
       "</table>\n",
       "</div>"
      ],
      "text/plain": [
       "     imdb_id                                          title  \\\n",
       "0  tt0057603                        I tre volti della paura   \n",
       "1  tt1733125  Dungeons & Dragons: The Book of Vile Darkness   \n",
       "2  tt0033045                     The Shop Around the Corner   \n",
       "3  tt0113862                             Mr. Holland's Opus   \n",
       "4  tt0086250                                       Scarface   \n",
       "\n",
       "                                       plot_synopsis  \\\n",
       "0  Note: this synopsis is for the orginal Italian...   \n",
       "1  Two thousand years ago, Nhagruul the Foul, a s...   \n",
       "2  Matuschek's, a gift store in Budapest, is the ...   \n",
       "3  Glenn Holland, not a morning person by anyone'...   \n",
       "4  In May 1980, a Cuban man named Tony Montana (A...   \n",
       "\n",
       "                                                tags  split synopsis_source  \\\n",
       "0          cult, horror, gothic, murder, atmospheric  train            imdb   \n",
       "1                                           violence  train            imdb   \n",
       "2                                           romantic   test            imdb   \n",
       "3             inspiring, romantic, stupid, feel-good  train            imdb   \n",
       "4  cruelty, murder, dramatic, cult, violence, atm...    val            imdb   \n",
       "\n",
       "   polarity  tags_count                                                pos  \\\n",
       "0  0.073613           5  [NOUN, PUNCT, VERB, ADJ, ADJ, NOUN, VERB, ADJ,...   \n",
       "1 -0.043939           1  [NUM, NUM, NOUN, ADV, PUNCT, NOUN, ADV, PUNCT,...   \n",
       "2  0.005330           1  [PROPN, PART, PUNCT, NOUN, NOUN, ADJ, PUNCT, N...   \n",
       "3  0.117596           4  [NOUN, NOUN, PUNCT, NOUN, NOUN, NOUN, PART, NO...   \n",
       "4  0.009198          10  [VERB, NUM, PUNCT, ADJ, NOUN, VERB, ADJ, NOUN,...   \n",
       "\n",
       "                                           verb_text  \\\n",
       "0  [note, :, synopsis, orginal, italian, release,...   \n",
       "1  [two, thousand, years, ago, ,, nhagruul, foul,...   \n",
       "2  [matuschek, 's, ,, gift, store, budapest, ,, w...   \n",
       "3  [glenn, holland, ,, morning, person, anyone, '...   \n",
       "4  [may, 1980, ,, cuban, man, named, tony, montan...   \n",
       "\n",
       "                                            verb_new  \\\n",
       "0  synopsis, segments, known, fear'.the, priced, ...   \n",
       "1  reveled, corrupting, neared, dismayed, consume...   \n",
       "2  hi, irritate, tempered, searching, sent, work,...   \n",
       "3  woken, taken, renamed, intends, hopes, finds, ...   \n",
       "4  may, named, claims, departing, questioned, tal...   \n",
       "\n",
       "                                  Cleaned_sysnopsis2  \\\n",
       "0  note: synopsis orginal italian release segment...   \n",
       "1  two thousand years ago, nhagruul foul, sorcere...   \n",
       "2  matuschek's, gift store budapest, workplace al...   \n",
       "3  glenn holland, morning person anyone's standar...   \n",
       "4  may 1980, cuban man named tony montana (al pac...   \n",
       "\n",
       "                                   Cleaned_sysnopsis  \n",
       "0  synopsi orgin italian releas segment certain o...  \n",
       "1  two thousand year ago nhagruul foul sorcer rev...  \n",
       "2  matuschek gift store budapest workplac alfr kr...  \n",
       "3  glenn holland morn person anyon standard woken...  \n",
       "4  may cuban man name toni montana pacino claim a...  "
      ]
     },
     "execution_count": 34,
     "metadata": {},
     "output_type": "execute_result"
    }
   ],
   "source": [
    "movie_data.head()"
   ]
  },
  {
   "cell_type": "code",
   "execution_count": 35,
   "metadata": {},
   "outputs": [],
   "source": [
    "final_data_polarity=movie_data.drop(['imdb_id','title','pos','verb_text','Cleaned_sysnopsis2','plot_synopsis','split','synopsis_source','tags_count'],axis=1)"
   ]
  },
  {
   "cell_type": "code",
   "execution_count": 36,
   "metadata": {},
   "outputs": [
    {
     "data": {
      "text/html": [
       "<div>\n",
       "<style scoped>\n",
       "    .dataframe tbody tr th:only-of-type {\n",
       "        vertical-align: middle;\n",
       "    }\n",
       "\n",
       "    .dataframe tbody tr th {\n",
       "        vertical-align: top;\n",
       "    }\n",
       "\n",
       "    .dataframe thead th {\n",
       "        text-align: right;\n",
       "    }\n",
       "</style>\n",
       "<table border=\"1\" class=\"dataframe\">\n",
       "  <thead>\n",
       "    <tr style=\"text-align: right;\">\n",
       "      <th></th>\n",
       "      <th>tags</th>\n",
       "      <th>polarity</th>\n",
       "      <th>verb_new</th>\n",
       "      <th>Cleaned_sysnopsis</th>\n",
       "    </tr>\n",
       "  </thead>\n",
       "  <tbody>\n",
       "    <tr>\n",
       "      <th>0</th>\n",
       "      <td>cult, horror, gothic, murder, atmospheric</td>\n",
       "      <td>0.073613</td>\n",
       "      <td>synopsis, segments, known, fear'.the, priced, ...</td>\n",
       "      <td>synopsi orgin italian releas segment certain o...</td>\n",
       "    </tr>\n",
       "    <tr>\n",
       "      <th>1</th>\n",
       "      <td>violence</td>\n",
       "      <td>-0.043939</td>\n",
       "      <td>reveled, corrupting, neared, dismayed, consume...</td>\n",
       "      <td>two thousand year ago nhagruul foul sorcer rev...</td>\n",
       "    </tr>\n",
       "    <tr>\n",
       "      <th>2</th>\n",
       "      <td>romantic</td>\n",
       "      <td>0.005330</td>\n",
       "      <td>hi, irritate, tempered, searching, sent, work,...</td>\n",
       "      <td>matuschek gift store budapest workplac alfr kr...</td>\n",
       "    </tr>\n",
       "    <tr>\n",
       "      <th>3</th>\n",
       "      <td>inspiring, romantic, stupid, feel-good</td>\n",
       "      <td>0.117596</td>\n",
       "      <td>woken, taken, renamed, intends, hopes, finds, ...</td>\n",
       "      <td>glenn holland morn person anyon standard woken...</td>\n",
       "    </tr>\n",
       "    <tr>\n",
       "      <th>4</th>\n",
       "      <td>cruelty, murder, dramatic, cult, violence, atm...</td>\n",
       "      <td>0.009198</td>\n",
       "      <td>may, named, claims, departing, questioned, tal...</td>\n",
       "      <td>may cuban man name toni montana pacino claim a...</td>\n",
       "    </tr>\n",
       "  </tbody>\n",
       "</table>\n",
       "</div>"
      ],
      "text/plain": [
       "                                                tags  polarity  \\\n",
       "0          cult, horror, gothic, murder, atmospheric  0.073613   \n",
       "1                                           violence -0.043939   \n",
       "2                                           romantic  0.005330   \n",
       "3             inspiring, romantic, stupid, feel-good  0.117596   \n",
       "4  cruelty, murder, dramatic, cult, violence, atm...  0.009198   \n",
       "\n",
       "                                            verb_new  \\\n",
       "0  synopsis, segments, known, fear'.the, priced, ...   \n",
       "1  reveled, corrupting, neared, dismayed, consume...   \n",
       "2  hi, irritate, tempered, searching, sent, work,...   \n",
       "3  woken, taken, renamed, intends, hopes, finds, ...   \n",
       "4  may, named, claims, departing, questioned, tal...   \n",
       "\n",
       "                                   Cleaned_sysnopsis  \n",
       "0  synopsi orgin italian releas segment certain o...  \n",
       "1  two thousand year ago nhagruul foul sorcer rev...  \n",
       "2  matuschek gift store budapest workplac alfr kr...  \n",
       "3  glenn holland morn person anyon standard woken...  \n",
       "4  may cuban man name toni montana pacino claim a...  "
      ]
     },
     "execution_count": 36,
     "metadata": {},
     "output_type": "execute_result"
    }
   ],
   "source": [
    "final_data_polarity.head()"
   ]
  },
  {
   "cell_type": "code",
   "execution_count": 7,
   "metadata": {},
   "outputs": [
    {
     "data": {
      "text/html": [
       "<div>\n",
       "<style scoped>\n",
       "    .dataframe tbody tr th:only-of-type {\n",
       "        vertical-align: middle;\n",
       "    }\n",
       "\n",
       "    .dataframe tbody tr th {\n",
       "        vertical-align: top;\n",
       "    }\n",
       "\n",
       "    .dataframe thead th {\n",
       "        text-align: right;\n",
       "    }\n",
       "</style>\n",
       "<table border=\"1\" class=\"dataframe\">\n",
       "  <thead>\n",
       "    <tr style=\"text-align: right;\">\n",
       "      <th></th>\n",
       "      <th>Document_No</th>\n",
       "      <th>Dominant_Topic</th>\n",
       "      <th>Topic_Perc_Contrib</th>\n",
       "      <th>Keywords</th>\n",
       "      <th>Text</th>\n",
       "    </tr>\n",
       "  </thead>\n",
       "  <tbody>\n",
       "    <tr>\n",
       "      <th>0</th>\n",
       "      <td>0</td>\n",
       "      <td>2.0</td>\n",
       "      <td>0.5724</td>\n",
       "      <td>tell, house, try, find, take, night, woman, po...</td>\n",
       "      <td>[synopsis, orginal, italian, release, segment,...</td>\n",
       "    </tr>\n",
       "    <tr>\n",
       "      <th>1</th>\n",
       "      <td>1</td>\n",
       "      <td>3.0</td>\n",
       "      <td>0.9940</td>\n",
       "      <td>return, attack, power, kill, become, world, es...</td>\n",
       "      <td>[thousand, years, nhagruul, sorcerer, revel, c...</td>\n",
       "    </tr>\n",
       "    <tr>\n",
       "      <th>2</th>\n",
       "      <td>2</td>\n",
       "      <td>0.0</td>\n",
       "      <td>0.1110</td>\n",
       "      <td>david, scott, robin, arthur, batman, chris, ha...</td>\n",
       "      <td>[matuschek, store, budapest, workplace, alfred...</td>\n",
       "    </tr>\n",
       "    <tr>\n",
       "      <th>3</th>\n",
       "      <td>3</td>\n",
       "      <td>0.0</td>\n",
       "      <td>0.0232</td>\n",
       "      <td>david, scott, robin, arthur, batman, chris, ha...</td>\n",
       "      <td>[glenn, holland, morning, person, anyone, stan...</td>\n",
       "    </tr>\n",
       "    <tr>\n",
       "      <th>4</th>\n",
       "      <td>4</td>\n",
       "      <td>1.0</td>\n",
       "      <td>0.2531</td>\n",
       "      <td>kill, escape, force, order, attack, take, arri...</td>\n",
       "      <td>[cuban, name, montana, pacino, claim, asylum, ...</td>\n",
       "    </tr>\n",
       "  </tbody>\n",
       "</table>\n",
       "</div>"
      ],
      "text/plain": [
       "   Document_No  Dominant_Topic  Topic_Perc_Contrib  \\\n",
       "0            0             2.0              0.5724   \n",
       "1            1             3.0              0.9940   \n",
       "2            2             0.0              0.1110   \n",
       "3            3             0.0              0.0232   \n",
       "4            4             1.0              0.2531   \n",
       "\n",
       "                                            Keywords  \\\n",
       "0  tell, house, try, find, take, night, woman, po...   \n",
       "1  return, attack, power, kill, become, world, es...   \n",
       "2  david, scott, robin, arthur, batman, chris, ha...   \n",
       "3  david, scott, robin, arthur, batman, chris, ha...   \n",
       "4  kill, escape, force, order, attack, take, arri...   \n",
       "\n",
       "                                                Text  \n",
       "0  [synopsis, orginal, italian, release, segment,...  \n",
       "1  [thousand, years, nhagruul, sorcerer, revel, c...  \n",
       "2  [matuschek, store, budapest, workplace, alfred...  \n",
       "3  [glenn, holland, morning, person, anyone, stan...  \n",
       "4  [cuban, name, montana, pacino, claim, asylum, ...  "
      ]
     },
     "execution_count": 7,
     "metadata": {},
     "output_type": "execute_result"
    }
   ],
   "source": [
    "import pickle\n",
    "\n",
    "Topic_modeling_keywords = pd.read_pickle('./Topic_modeling_keywords.csv')\n",
    "Topic_modeling_keywords.head()"
   ]
  },
  {
   "cell_type": "code",
   "execution_count": 8,
   "metadata": {},
   "outputs": [],
   "source": [
    "topic_keywords = Topic_modeling_keywords.drop(['Document_No','Dominant_Topic','Topic_Perc_Contrib','Text'],axis=1)"
   ]
  },
  {
   "cell_type": "code",
   "execution_count": 9,
   "metadata": {},
   "outputs": [
    {
     "data": {
      "text/html": [
       "<div>\n",
       "<style scoped>\n",
       "    .dataframe tbody tr th:only-of-type {\n",
       "        vertical-align: middle;\n",
       "    }\n",
       "\n",
       "    .dataframe tbody tr th {\n",
       "        vertical-align: top;\n",
       "    }\n",
       "\n",
       "    .dataframe thead th {\n",
       "        text-align: right;\n",
       "    }\n",
       "</style>\n",
       "<table border=\"1\" class=\"dataframe\">\n",
       "  <thead>\n",
       "    <tr style=\"text-align: right;\">\n",
       "      <th></th>\n",
       "      <th>Keywords</th>\n",
       "    </tr>\n",
       "  </thead>\n",
       "  <tbody>\n",
       "    <tr>\n",
       "      <th>0</th>\n",
       "      <td>tell, house, try, find, take, night, woman, po...</td>\n",
       "    </tr>\n",
       "    <tr>\n",
       "      <th>1</th>\n",
       "      <td>return, attack, power, kill, become, world, es...</td>\n",
       "    </tr>\n",
       "    <tr>\n",
       "      <th>2</th>\n",
       "      <td>david, scott, robin, arthur, batman, chris, ha...</td>\n",
       "    </tr>\n",
       "    <tr>\n",
       "      <th>3</th>\n",
       "      <td>david, scott, robin, arthur, batman, chris, ha...</td>\n",
       "    </tr>\n",
       "    <tr>\n",
       "      <th>4</th>\n",
       "      <td>kill, escape, force, order, attack, take, arri...</td>\n",
       "    </tr>\n",
       "  </tbody>\n",
       "</table>\n",
       "</div>"
      ],
      "text/plain": [
       "                                            Keywords\n",
       "0  tell, house, try, find, take, night, woman, po...\n",
       "1  return, attack, power, kill, become, world, es...\n",
       "2  david, scott, robin, arthur, batman, chris, ha...\n",
       "3  david, scott, robin, arthur, batman, chris, ha...\n",
       "4  kill, escape, force, order, attack, take, arri..."
      ]
     },
     "execution_count": 9,
     "metadata": {},
     "output_type": "execute_result"
    }
   ],
   "source": [
    "topic_keywords.head()"
   ]
  },
  {
   "cell_type": "code",
   "execution_count": 10,
   "metadata": {},
   "outputs": [
    {
     "data": {
      "text/plain": [
       "(14828, 1)"
      ]
     },
     "execution_count": 10,
     "metadata": {},
     "output_type": "execute_result"
    }
   ],
   "source": [
    "topic_keywords.shape"
   ]
  },
  {
   "cell_type": "markdown",
   "metadata": {},
   "source": [
    "### Splitting data into X and Y"
   ]
  },
  {
   "cell_type": "code",
   "execution_count": 37,
   "metadata": {},
   "outputs": [],
   "source": [
    "Y=final_data_polarity['tags']"
   ]
  },
  {
   "cell_type": "code",
   "execution_count": 38,
   "metadata": {},
   "outputs": [],
   "source": [
    "X= final_data_polarity.drop(['tags'],axis=1)"
   ]
  },
  {
   "cell_type": "code",
   "execution_count": 39,
   "metadata": {},
   "outputs": [
    {
     "data": {
      "text/html": [
       "<div>\n",
       "<style scoped>\n",
       "    .dataframe tbody tr th:only-of-type {\n",
       "        vertical-align: middle;\n",
       "    }\n",
       "\n",
       "    .dataframe tbody tr th {\n",
       "        vertical-align: top;\n",
       "    }\n",
       "\n",
       "    .dataframe thead th {\n",
       "        text-align: right;\n",
       "    }\n",
       "</style>\n",
       "<table border=\"1\" class=\"dataframe\">\n",
       "  <thead>\n",
       "    <tr style=\"text-align: right;\">\n",
       "      <th></th>\n",
       "      <th>polarity</th>\n",
       "      <th>verb_new</th>\n",
       "      <th>Cleaned_sysnopsis</th>\n",
       "    </tr>\n",
       "  </thead>\n",
       "  <tbody>\n",
       "    <tr>\n",
       "      <th>0</th>\n",
       "      <td>0.073613</td>\n",
       "      <td>synopsis, segments, known, fear'.the, priced, ...</td>\n",
       "      <td>synopsi orgin italian releas segment certain o...</td>\n",
       "    </tr>\n",
       "    <tr>\n",
       "      <th>1</th>\n",
       "      <td>-0.043939</td>\n",
       "      <td>reveled, corrupting, neared, dismayed, consume...</td>\n",
       "      <td>two thousand year ago nhagruul foul sorcer rev...</td>\n",
       "    </tr>\n",
       "    <tr>\n",
       "      <th>2</th>\n",
       "      <td>0.005330</td>\n",
       "      <td>hi, irritate, tempered, searching, sent, work,...</td>\n",
       "      <td>matuschek gift store budapest workplac alfr kr...</td>\n",
       "    </tr>\n",
       "    <tr>\n",
       "      <th>3</th>\n",
       "      <td>0.117596</td>\n",
       "      <td>woken, taken, renamed, intends, hopes, finds, ...</td>\n",
       "      <td>glenn holland morn person anyon standard woken...</td>\n",
       "    </tr>\n",
       "    <tr>\n",
       "      <th>4</th>\n",
       "      <td>0.009198</td>\n",
       "      <td>may, named, claims, departing, questioned, tal...</td>\n",
       "      <td>may cuban man name toni montana pacino claim a...</td>\n",
       "    </tr>\n",
       "  </tbody>\n",
       "</table>\n",
       "</div>"
      ],
      "text/plain": [
       "   polarity                                           verb_new  \\\n",
       "0  0.073613  synopsis, segments, known, fear'.the, priced, ...   \n",
       "1 -0.043939  reveled, corrupting, neared, dismayed, consume...   \n",
       "2  0.005330  hi, irritate, tempered, searching, sent, work,...   \n",
       "3  0.117596  woken, taken, renamed, intends, hopes, finds, ...   \n",
       "4  0.009198  may, named, claims, departing, questioned, tal...   \n",
       "\n",
       "                                   Cleaned_sysnopsis  \n",
       "0  synopsi orgin italian releas segment certain o...  \n",
       "1  two thousand year ago nhagruul foul sorcer rev...  \n",
       "2  matuschek gift store budapest workplac alfr kr...  \n",
       "3  glenn holland morn person anyon standard woken...  \n",
       "4  may cuban man name toni montana pacino claim a...  "
      ]
     },
     "execution_count": 39,
     "metadata": {},
     "output_type": "execute_result"
    }
   ],
   "source": [
    "X.head()"
   ]
  },
  {
   "cell_type": "code",
   "execution_count": 40,
   "metadata": {},
   "outputs": [
    {
     "data": {
      "text/plain": [
       "(14828, 3)"
      ]
     },
     "execution_count": 40,
     "metadata": {},
     "output_type": "execute_result"
    }
   ],
   "source": [
    "X.shape"
   ]
  },
  {
   "cell_type": "code",
   "execution_count": 41,
   "metadata": {},
   "outputs": [],
   "source": [
    "final_x = pd.concat([X, topic_keywords],axis=1)"
   ]
  },
  {
   "cell_type": "code",
   "execution_count": 42,
   "metadata": {},
   "outputs": [
    {
     "data": {
      "text/html": [
       "<div>\n",
       "<style scoped>\n",
       "    .dataframe tbody tr th:only-of-type {\n",
       "        vertical-align: middle;\n",
       "    }\n",
       "\n",
       "    .dataframe tbody tr th {\n",
       "        vertical-align: top;\n",
       "    }\n",
       "\n",
       "    .dataframe thead th {\n",
       "        text-align: right;\n",
       "    }\n",
       "</style>\n",
       "<table border=\"1\" class=\"dataframe\">\n",
       "  <thead>\n",
       "    <tr style=\"text-align: right;\">\n",
       "      <th></th>\n",
       "      <th>polarity</th>\n",
       "      <th>verb_new</th>\n",
       "      <th>Cleaned_sysnopsis</th>\n",
       "      <th>Keywords</th>\n",
       "    </tr>\n",
       "  </thead>\n",
       "  <tbody>\n",
       "    <tr>\n",
       "      <th>0</th>\n",
       "      <td>0.073613</td>\n",
       "      <td>synopsis, segments, known, fear'.the, priced, ...</td>\n",
       "      <td>synopsi orgin italian releas segment certain o...</td>\n",
       "      <td>tell, house, try, find, take, night, woman, po...</td>\n",
       "    </tr>\n",
       "    <tr>\n",
       "      <th>1</th>\n",
       "      <td>-0.043939</td>\n",
       "      <td>reveled, corrupting, neared, dismayed, consume...</td>\n",
       "      <td>two thousand year ago nhagruul foul sorcer rev...</td>\n",
       "      <td>return, attack, power, kill, become, world, es...</td>\n",
       "    </tr>\n",
       "    <tr>\n",
       "      <th>2</th>\n",
       "      <td>0.005330</td>\n",
       "      <td>hi, irritate, tempered, searching, sent, work,...</td>\n",
       "      <td>matuschek gift store budapest workplac alfr kr...</td>\n",
       "      <td>david, scott, robin, arthur, batman, chris, ha...</td>\n",
       "    </tr>\n",
       "    <tr>\n",
       "      <th>3</th>\n",
       "      <td>0.117596</td>\n",
       "      <td>woken, taken, renamed, intends, hopes, finds, ...</td>\n",
       "      <td>glenn holland morn person anyon standard woken...</td>\n",
       "      <td>david, scott, robin, arthur, batman, chris, ha...</td>\n",
       "    </tr>\n",
       "    <tr>\n",
       "      <th>4</th>\n",
       "      <td>0.009198</td>\n",
       "      <td>may, named, claims, departing, questioned, tal...</td>\n",
       "      <td>may cuban man name toni montana pacino claim a...</td>\n",
       "      <td>kill, escape, force, order, attack, take, arri...</td>\n",
       "    </tr>\n",
       "  </tbody>\n",
       "</table>\n",
       "</div>"
      ],
      "text/plain": [
       "   polarity                                           verb_new  \\\n",
       "0  0.073613  synopsis, segments, known, fear'.the, priced, ...   \n",
       "1 -0.043939  reveled, corrupting, neared, dismayed, consume...   \n",
       "2  0.005330  hi, irritate, tempered, searching, sent, work,...   \n",
       "3  0.117596  woken, taken, renamed, intends, hopes, finds, ...   \n",
       "4  0.009198  may, named, claims, departing, questioned, tal...   \n",
       "\n",
       "                                   Cleaned_sysnopsis  \\\n",
       "0  synopsi orgin italian releas segment certain o...   \n",
       "1  two thousand year ago nhagruul foul sorcer rev...   \n",
       "2  matuschek gift store budapest workplac alfr kr...   \n",
       "3  glenn holland morn person anyon standard woken...   \n",
       "4  may cuban man name toni montana pacino claim a...   \n",
       "\n",
       "                                            Keywords  \n",
       "0  tell, house, try, find, take, night, woman, po...  \n",
       "1  return, attack, power, kill, become, world, es...  \n",
       "2  david, scott, robin, arthur, batman, chris, ha...  \n",
       "3  david, scott, robin, arthur, batman, chris, ha...  \n",
       "4  kill, escape, force, order, attack, take, arri...  "
      ]
     },
     "execution_count": 42,
     "metadata": {},
     "output_type": "execute_result"
    }
   ],
   "source": [
    "final_x.head()"
   ]
  },
  {
   "cell_type": "markdown",
   "metadata": {},
   "source": [
    "# Machine learning Models"
   ]
  },
  {
   "cell_type": "code",
   "execution_count": 43,
   "metadata": {},
   "outputs": [],
   "source": [
    "from sklearn.feature_extraction.text import CountVectorizer\n",
    "vectorizer = CountVectorizer(binary=True)\n",
    "multilabel_y = vectorizer.fit_transform(Y)"
   ]
  },
  {
   "cell_type": "code",
   "execution_count": 44,
   "metadata": {},
   "outputs": [],
   "source": [
    "t = multilabel_y.sum(axis=0).tolist()[0]\n",
    "sorted_tags_i = sorted(range(len(t)), key=lambda i: t[i], reverse=True)\n",
    "multilabel_yn=multilabel_y[:,sorted_tags_i]"
   ]
  },
  {
   "cell_type": "code",
   "execution_count": 45,
   "metadata": {},
   "outputs": [
    {
     "data": {
      "text/plain": [
       "(14828, 82)"
      ]
     },
     "execution_count": 45,
     "metadata": {},
     "output_type": "execute_result"
    }
   ],
   "source": [
    "multilabel_yn.shape"
   ]
  },
  {
   "cell_type": "markdown",
   "metadata": {},
   "source": [
    "### Splitting data into train and test"
   ]
  },
  {
   "cell_type": "code",
   "execution_count": 46,
   "metadata": {},
   "outputs": [],
   "source": [
    "from sklearn.model_selection import train_test_split\n",
    "\n",
    "x_train,x_test,y_train,y_test = train_test_split(final_x,multilabel_yn,test_size=0.2)"
   ]
  },
  {
   "cell_type": "code",
   "execution_count": 47,
   "metadata": {},
   "outputs": [
    {
     "name": "stdout",
     "output_type": "stream",
     "text": [
      "training size (11862, 4) and testing size (2966, 4) \n"
     ]
    }
   ],
   "source": [
    "print(\"training size {} and testing size {} \".format(x_train.shape,x_test.shape))"
   ]
  },
  {
   "cell_type": "code",
   "execution_count": 48,
   "metadata": {},
   "outputs": [
    {
     "name": "stdout",
     "output_type": "stream",
     "text": [
      "Number of data points in train data : (11862, 82)\n",
      "Number of data points in test data : (2966, 82)\n"
     ]
    }
   ],
   "source": [
    "print(\"Number of data points in train data :\", y_train.shape)\n",
    "print(\"Number of data points in test data :\", y_test.shape)"
   ]
  },
  {
   "cell_type": "markdown",
   "metadata": {},
   "source": [
    "## Featurizing the data"
   ]
  },
  {
   "cell_type": "code",
   "execution_count": 49,
   "metadata": {},
   "outputs": [
    {
     "name": "stdout",
     "output_type": "stream",
     "text": [
      "Time taken to run this cell : 0:01:07.774074\n"
     ]
    }
   ],
   "source": [
    "from datetime import datetime\n",
    "\n",
    "start = datetime.now()\n",
    "vectorizer = TfidfVectorizer(smooth_idf=True,max_features=10000, norm=\"l2\",sublinear_tf=False,ngram_range=(1,3))\n",
    "x_train1 = vectorizer.fit_transform(x_train['Cleaned_sysnopsis'])\n",
    "x_test_1 = vectorizer.transform(x_test['Cleaned_sysnopsis'])\n",
    "print(\"Time taken to run this cell :\", datetime.now() - start)"
   ]
  },
  {
   "cell_type": "code",
   "execution_count": 50,
   "metadata": {},
   "outputs": [],
   "source": [
    "from sklearn.feature_extraction.text import CountVectorizer\n",
    "\n",
    "vectorizer2 = CountVectorizer()\n",
    "x_train_keywords = vectorizer2.fit_transform(x_train['Keywords'])\n",
    "x_test_keywords = vectorizer2.transform(x_test['Keywords'])"
   ]
  },
  {
   "cell_type": "code",
   "execution_count": 51,
   "metadata": {},
   "outputs": [
    {
     "data": {
      "text/plain": [
       "(11862, 40)"
      ]
     },
     "execution_count": 51,
     "metadata": {},
     "output_type": "execute_result"
    }
   ],
   "source": [
    "x_train_keywords.shape"
   ]
  },
  {
   "cell_type": "code",
   "execution_count": 52,
   "metadata": {},
   "outputs": [],
   "source": [
    "x_train_verb = vectorizer2.fit_transform(x_train['verb_new'])\n",
    "x_test_verb = vectorizer2.transform(x_test['verb_new'])"
   ]
  },
  {
   "cell_type": "markdown",
   "metadata": {},
   "source": [
    "#### Combining our polarity feature"
   ]
  },
  {
   "cell_type": "code",
   "execution_count": 54,
   "metadata": {},
   "outputs": [],
   "source": [
    "x_train_p = x_train.drop(['Cleaned_sysnopsis','verb_new','Keywords'],axis=1)"
   ]
  },
  {
   "cell_type": "code",
   "execution_count": 55,
   "metadata": {},
   "outputs": [],
   "source": [
    "x_test_p = x_test.drop(['Cleaned_sysnopsis','verb_new','Keywords'],axis=1)"
   ]
  },
  {
   "cell_type": "code",
   "execution_count": 57,
   "metadata": {},
   "outputs": [],
   "source": [
    "from scipy.sparse import hstack\n",
    "# Combine all the features in question1 and question2\n",
    "final_xtrain = hstack((x_train1,x_train_p,x_train_keywords,x_train_verb))"
   ]
  },
  {
   "cell_type": "code",
   "execution_count": 58,
   "metadata": {},
   "outputs": [],
   "source": [
    "final_xtest=hstack((x_test_1,x_test_p,x_test_keywords,x_test_verb))"
   ]
  },
  {
   "cell_type": "code",
   "execution_count": 59,
   "metadata": {},
   "outputs": [
    {
     "data": {
      "text/plain": [
       "(11862, 42967)"
      ]
     },
     "execution_count": 59,
     "metadata": {},
     "output_type": "execute_result"
    }
   ],
   "source": [
    "final_xtrain.shape"
   ]
  },
  {
   "cell_type": "code",
   "execution_count": 60,
   "metadata": {},
   "outputs": [
    {
     "data": {
      "text/plain": [
       "(2966, 42967)"
      ]
     },
     "execution_count": 60,
     "metadata": {},
     "output_type": "execute_result"
    }
   ],
   "source": [
    "final_xtest.shape"
   ]
  },
  {
   "cell_type": "markdown",
   "metadata": {},
   "source": [
    "## Featurizing data for Glove vector"
   ]
  },
  {
   "cell_type": "code",
   "execution_count": 42,
   "metadata": {},
   "outputs": [],
   "source": [
    "from sklearn.model_selection import train_test_split\n",
    "\n",
    "x_train,x_test,y_train,y_test = train_test_split(X,multilabel_yn,test_size=0.2)"
   ]
  },
  {
   "cell_type": "code",
   "execution_count": 44,
   "metadata": {},
   "outputs": [],
   "source": [
    "# dict key:word and value:tf-idf score\n",
    "# vectorizer = TfidfVectorizer(smooth_idf=True,max_features=40000, norm=\"l2\",sublinear_tf=False,ngram_range=(1,3))\n",
    "word2tfidf = dict(zip(vectorizer.get_feature_names(), vectorizer.idf_))"
   ]
  },
  {
   "cell_type": "markdown",
   "metadata": {},
   "source": [
    "Here we are using pre-trained glove model which comes with spacy"
   ]
  },
  {
   "cell_type": "code",
   "execution_count": 55,
   "metadata": {},
   "outputs": [
    {
     "name": "stdout",
     "output_type": "stream",
     "text": [
      "Time taken to run this cell: 0:15:20.872740\n"
     ]
    }
   ],
   "source": [
    "import spacy\n",
    "import numpy as np\n",
    "# en_vectors_web_lg, which includes over 1 million unique vectors.\n",
    "nlp = spacy.load('en_core_web_sm')\n",
    "\n",
    "start = datetime.now()\n",
    "\n",
    "vecs1 = []\n",
    "# https://github.com/noamraph/tqdm\n",
    "# tqdm is used to print the progress bar\n",
    "for qu1 in (x_train['Cleaned_sysnopsis']):\n",
    "#     print(qu1)\n",
    "    doc1 = nlp(qu1) \n",
    "    # 384 is the number of dimensions of vectors \n",
    "    mean_vec1 = np.zeros([len(doc1), len(doc1[0].vector)])\n",
    "    for word1 in doc1:\n",
    "        # word2vec\n",
    "        vec1 = word1.vector\n",
    "        # fetch df score\n",
    "        try:\n",
    "            idf = word2tfidf[str(word1)]\n",
    "        except:\n",
    "            idf = 0\n",
    "        # compute final vec\n",
    "        mean_vec1 += vec1 * idf\n",
    "    mean_vec1 = mean_vec1.mean(axis=0)\n",
    "    vecs1.append(mean_vec1)\n",
    "    \n",
    "x_train_w2v = list(vecs1)\n",
    "print(\"Time taken to run this cell:\",datetime.now() - start)"
   ]
  },
  {
   "cell_type": "code",
   "execution_count": 58,
   "metadata": {},
   "outputs": [
    {
     "name": "stdout",
     "output_type": "stream",
     "text": [
      "Time taken to run this cell: 0:03:54.200935\n"
     ]
    }
   ],
   "source": [
    "nlp = spacy.load('en_core_web_sm')\n",
    "\n",
    "start = datetime.now()\n",
    "\n",
    "vecs1 = []\n",
    "# https://github.com/noamraph/tqdm\n",
    "# tqdm is used to print the progress bar\n",
    "for qu1 in (x_test['Cleaned_sysnopsis']):\n",
    "    doc1 = nlp(qu1) \n",
    "    # 384 is the number of dimensions of vectors \n",
    "    mean_vec1 = np.zeros([len(doc1), len(doc1[0].vector)])\n",
    "    for word1 in doc1:\n",
    "        # word2vec\n",
    "        vec1 = word1.vector\n",
    "        # fetch df score\n",
    "        try:\n",
    "            idf = word2tfidf[str(word1)]\n",
    "        except:\n",
    "            idf = 0\n",
    "        # compute final vec\n",
    "        mean_vec1 += vec1 * idf\n",
    "    mean_vec1 = mean_vec1.mean(axis=0)\n",
    "    vecs1.append(mean_vec1)\n",
    "x_test_w2v = list(vecs1)\n",
    "print(\"Time taken to run this cell:\",datetime.now() - start)"
   ]
  },
  {
   "cell_type": "code",
   "execution_count": 59,
   "metadata": {},
   "outputs": [],
   "source": [
    "#dumping into pickle file\n",
    "import pickle\n",
    "\n",
    "with open(\"x_train_w2v10k.txt\", \"wb\") as fp:   #Pickling\n",
    "    pickle.dump(x_train_w2v, fp)\n",
    "    \n",
    "    \n",
    "with open(\"x_test_w2v.txt10k\",\"wb\") as fp:\n",
    "    pickle.dump(x_test_w2v,fp)"
   ]
  },
  {
   "cell_type": "markdown",
   "metadata": {},
   "source": [
    "# Machine learning models"
   ]
  },
  {
   "cell_type": "markdown",
   "metadata": {},
   "source": [
    "## 1.Applying model with synopsis feature and polraity"
   ]
  },
  {
   "cell_type": "markdown",
   "metadata": {},
   "source": [
    "### Applying logistic Regression with OneVsRest Classifier"
   ]
  },
  {
   "cell_type": "code",
   "execution_count": 26,
   "metadata": {},
   "outputs": [],
   "source": [
    "from sklearn.multiclass import OneVsRestClassifier\n",
    "from sklearn.linear_model import SGDClassifier\n",
    "from sklearn import metrics\n",
    "from sklearn.metrics import f1_score,precision_score,recall_score\n",
    "from sklearn import svm\n",
    "from sklearn.linear_model import LogisticRegression\n",
    "from sklearn.calibration import CalibratedClassifierCV\n",
    "import warnings \n",
    "warnings.filterwarnings('ignore')"
   ]
  },
  {
   "cell_type": "markdown",
   "metadata": {},
   "source": [
    "Taking random value of alpha=0.00001"
   ]
  },
  {
   "cell_type": "code",
   "execution_count": 35,
   "metadata": {},
   "outputs": [
    {
     "data": {
      "text/plain": [
       "OneVsRestClassifier(estimator=SGDClassifier(alpha=1e-05, average=False, class_weight=None,\n",
       "       early_stopping=False, epsilon=0.1, eta0=0.0, fit_intercept=True,\n",
       "       l1_ratio=0.15, learning_rate='optimal', loss='log', max_iter=None,\n",
       "       n_iter=None, n_iter_no_change=5, n_jobs=-1, penalty='l1',\n",
       "       power_t=0.5, random_state=None, shuffle=True, tol=None,\n",
       "       validation_fraction=0.1, verbose=0, warm_start=False),\n",
       "          n_jobs=None)"
      ]
     },
     "execution_count": 35,
     "metadata": {},
     "output_type": "execute_result"
    }
   ],
   "source": [
    "classifier = OneVsRestClassifier(SGDClassifier(loss='log',alpha=0.00001,penalty='l1',n_jobs=-1))\n",
    "classifier.fit(final_xtrain, y_train)\n"
   ]
  },
  {
   "cell_type": "code",
   "execution_count": 36,
   "metadata": {},
   "outputs": [],
   "source": [
    "predictions = classifier.predict_proba(final_xtest)"
   ]
  },
  {
   "cell_type": "code",
   "execution_count": 37,
   "metadata": {},
   "outputs": [],
   "source": [
    "t = 0.2 # threshold value\n",
    "y_pred_new = (predictions >= t).astype(int)"
   ]
  },
  {
   "cell_type": "code",
   "execution_count": 38,
   "metadata": {},
   "outputs": [
    {
     "name": "stdout",
     "output_type": "stream",
     "text": [
      "Accuracy : 0.030681051921780174\n",
      "Hamming loss  0.05900613456572867\n",
      "Micro-average quality numbers\n",
      "Precision: 0.3831, Recall: 0.3927, F1-measure: 0.3878\n",
      "Macro-average quality numbers\n",
      "Precision: 0.2824, Recall: 0.3712, F1-measure: 0.3207\n"
     ]
    }
   ],
   "source": [
    "print(\"Accuracy :\",metrics.accuracy_score(y_test, y_pred_new))\n",
    "print(\"Hamming loss \",metrics.hamming_loss(y_test,y_pred_new))\n",
    "precision = precision_score(y_test, y_pred_new, average='micro')\n",
    "recall = recall_score(y_test, y_pred_new, average='micro')\n",
    "f1 = f1_score(y_test, y_pred_new, average='micro')\n",
    "print(\"Micro-average quality numbers\")\n",
    "print(\"Precision: {:.4f}, Recall: {:.4f}, F1-measure: {:.4f}\".format(precision, recall,f1))\n",
    "precision = precision_score(y_test, y_pred_new, average='macro')\n",
    "recall = recall_score(y_test, y_pred_new, average='macro')\n",
    "f1 = f1_score(y_test, y_pred_new, average='macro')\n",
    "print(\"Macro-average quality numbers\")\n",
    "print(\"Precision: {:.4f}, Recall: {:.4f}, F1-measure: {:.4f}\".format(precision, recall,f1))\n",
    "# print (metrics.classification_report(y_test, predictions))\n",
    "# print(\"Time taken to run this cell :\", datetime.now() - start)"
   ]
  },
  {
   "cell_type": "markdown",
   "metadata": {},
   "source": [
    "> So we are getting test F1 score of 0.3878 with a random alpha value and lets try with hypermater tunning with various alpha value"
   ]
  },
  {
   "cell_type": "markdown",
   "metadata": {},
   "source": [
    "## Perfroming Hypermater tuning"
   ]
  },
  {
   "cell_type": "code",
   "execution_count": 39,
   "metadata": {},
   "outputs": [
    {
     "data": {
      "image/png": "[encoded data removed]",
      "text/plain": [
       "<Figure size 432x288 with 1 Axes>"
      ]
     },
     "metadata": {
      "needs_background": "light"
     },
     "output_type": "display_data"
    },
    {
     "name": "stdout",
     "output_type": "stream",
     "text": [
      "\n",
      "The best value of alpha is 0.0001.\n",
      "Time taken to run this cell : 0:02:35.692269\n"
     ]
    }
   ],
   "source": [
    "# import sklearn.model_selection import cross_val_score\n",
    "import numpy as np\n",
    "import sklearn\n",
    "\n",
    "start = datetime.now()\n",
    "alpha_lst = [10**-4,10**-3,10**-2,10**-1,10**0,10**1,10**2,10**3]\n",
    "micro_f1_scores = []\n",
    "for alpha_ in alpha_lst:\n",
    "    classifier = OneVsRestClassifier(SGDClassifier(loss='log', alpha=alpha_, penalty='l1'))\n",
    "    cv_scores = sklearn.model_selection.cross_val_score(classifier,final_xtrain, y_train, cv=3, scoring='f1_micro')\n",
    "    micro_f1_scores.append(cv_scores.mean())\n",
    "                                                   \n",
    "# plot alpha vs micro f1 score\n",
    "plt.plot(alpha_lst,micro_f1_scores)\n",
    "for i in range (0,len(alpha_lst)):\n",
    "    plt.annotate('%s' %alpha_lst[i], xy=(alpha_lst[i],micro_f1_scores[i]))\n",
    "plt.show()\n",
    "best_alpha = alpha_lst[np.argmax(micro_f1_scores)]\n",
    "print('\\nThe best value of alpha is %s.' %best_alpha)\n",
    "print(\"Time taken to run this cell :\", datetime.now() - start)"
   ]
  },
  {
   "cell_type": "code",
   "execution_count": 40,
   "metadata": {},
   "outputs": [
    {
     "name": "stdout",
     "output_type": "stream",
     "text": [
      "Micro-average quality numbers\n",
      "Precision: 0.3827, Recall: 0.3925, F1-measure: 0.3875\n",
      "Time taken to run this cell : 0:00:24.514953\n"
     ]
    }
   ],
   "source": [
    "start = datetime.now()\n",
    "classifier = OneVsRestClassifier(SGDClassifier(loss='log', alpha=0.00001, penalty='l1'))\n",
    "classifier.fit(final_xtrain, y_train)\n",
    "predictions = classifier.predict_proba(final_xtest)\n",
    "\n",
    "t = 0.2 # threshold value\n",
    "y_pred_new = (predictions >= t).astype(int)\n",
    "\n",
    "precision = precision_score(y_test, y_pred_new, average='micro')\n",
    "recall = recall_score(y_test, y_pred_new, average='micro')\n",
    "f1 = f1_score(y_test, y_pred_new, average='micro')\n",
    "\n",
    "print(\"Micro-average quality numbers\")\n",
    "print(\"Precision: {:.4f}, Recall: {:.4f}, F1-measure: {:.4f}\".format(precision, recall, f1))\n",
    "\n",
    "print(\"Time taken to run this cell :\", datetime.now() - start)"
   ]
  },
  {
   "cell_type": "markdown",
   "metadata": {},
   "source": [
    "> As we can see we are getting f1 score value of 0.3875 "
   ]
  },
  {
   "cell_type": "markdown",
   "metadata": {},
   "source": [
    "## Applying SVM"
   ]
  },
  {
   "cell_type": "code",
   "execution_count": 41,
   "metadata": {},
   "outputs": [
    {
     "name": "stdout",
     "output_type": "stream",
     "text": [
      "Accuracy : 0.05529332434254889\n",
      "Hamming loss  0.04560630232060918\n",
      "Micro-average quality numbers\n",
      "Precision: 0.3938, Recall: 0.3505, F1-measure: 0.3708\n"
     ]
    }
   ],
   "source": [
    "start = datetime.now()\n",
    "classifier = OneVsRestClassifier(SGDClassifier(loss='hinge', alpha=0.00001, penalty='l2'), n_jobs=-1)\n",
    "classifier.fit(final_xtrain, y_train)\n",
    "predictions = classifier.predict (final_xtest)\n",
    "\n",
    "\n",
    "print(\"Accuracy :\",metrics.accuracy_score(y_test, predictions))\n",
    "print(\"Hamming loss \",metrics.hamming_loss(y_test,predictions))\n",
    "\n",
    "\n",
    "precision = precision_score(y_test, predictions, average='micro')\n",
    "recall = recall_score(y_test, predictions, average='micro')\n",
    "f1 = f1_score(y_test, predictions, average='micro')\n",
    " \n",
    "print(\"Micro-average quality numbers\")\n",
    "print(\"Precision: {:.4f}, Recall: {:.4f}, F1-measure: {:.4f}\".format(precision, recall, f1))"
   ]
  },
  {
   "cell_type": "markdown",
   "metadata": {},
   "source": [
    "> As we can see we are getting f1 score of 0.3708 which is less then the logistic Regression"
   ]
  },
  {
   "cell_type": "markdown",
   "metadata": {},
   "source": [
    "# Word2Vec"
   ]
  },
  {
   "cell_type": "code",
   "execution_count": 60,
   "metadata": {},
   "outputs": [],
   "source": [
    "from sklearn.multiclass import OneVsRestClassifier\n",
    "from sklearn.linear_model import SGDClassifier\n",
    "from sklearn import metrics\n",
    "from sklearn.metrics import f1_score,precision_score,recall_score\n",
    "from sklearn import svm\n",
    "from sklearn.linear_model import LogisticRegression\n",
    "import warnings \n",
    "warnings.filterwarnings('ignore')"
   ]
  },
  {
   "cell_type": "code",
   "execution_count": 63,
   "metadata": {},
   "outputs": [],
   "source": [
    "#Adding some feature\n",
    "\n",
    "final_x_train_w2v = hstack((x_train_w2v,x_train_p))\n",
    "final_x_test_w2v = hstack((x_test_w2v,x_test_p))"
   ]
  },
  {
   "cell_type": "code",
   "execution_count": 64,
   "metadata": {},
   "outputs": [],
   "source": [
    "classifier = OneVsRestClassifier(SGDClassifier(loss='log',alpha=0.00001,penalty='l1',n_jobs=4))\n",
    "classifier.fit(final_x_train_w2v, y_train)\n",
    "\n",
    "predictions = classifier.predict(final_x_test_w2v)"
   ]
  },
  {
   "cell_type": "code",
   "execution_count": 72,
   "metadata": {},
   "outputs": [],
   "source": [
    "t = 0.2 # threshold value\n",
    "y_pred_new = (predictions >= t).astype(int)"
   ]
  },
  {
   "cell_type": "code",
   "execution_count": 73,
   "metadata": {},
   "outputs": [
    {
     "name": "stdout",
     "output_type": "stream",
     "text": [
      "Accuracy : 0.0023600809170600135\n",
      "Hamming loss  0.06971284311629361\n",
      "Micro-average quality numbers\n",
      "Precision: 0.3326, Recall: 0.3499, F1-measure: 0.3410\n",
      "Macro-average quality numbers\n",
      "Precision: 0.2226, Recall: 0.2456, F1-measure: 0.2335\n"
     ]
    }
   ],
   "source": [
    "print(\"Accuracy :\",metrics.accuracy_score(y_test, y_pred_new))\n",
    "print(\"Hamming loss \",metrics.hamming_loss(y_test,y_pred_new))\n",
    "precision = precision_score(y_test, y_pred_new, average='micro')\n",
    "recall = recall_score(y_test, y_pred_new, average='micro')\n",
    "f1 = f1_score(y_test, y_pred_new, average='micro')\n",
    "print(\"Micro-average quality numbers\")\n",
    "print(\"Precision: {:.4f}, Recall: {:.4f}, F1-measure: {:.4f}\".format(precision, recall,f1))\n",
    "precision = precision_score(y_test, y_pred_new, average='macro')\n",
    "recall = recall_score(y_test, y_pred_new, average='macro')\n",
    "f1 = f1_score(y_test, y_pred_new, average='macro')\n",
    "print(\"Macro-average quality numbers\")\n",
    "print(\"Precision: {:.4f}, Recall: {:.4f}, F1-measure: {:.4f}\".format(precision, recall,f1))\n",
    "# print (metrics.classification_report(y_test, predictions))\n",
    "# print(\"Time taken to run this cell :\", datetime.now() - start)"
   ]
  },
  {
   "cell_type": "markdown",
   "metadata": {},
   "source": [
    "> As we can by using glove vector we are getting f1 score of 0.3410"
   ]
  },
  {
   "cell_type": "markdown",
   "metadata": {},
   "source": [
    "### Applying SVM"
   ]
  },
  {
   "cell_type": "code",
   "execution_count": 106,
   "metadata": {},
   "outputs": [
    {
     "name": "stdout",
     "output_type": "stream",
     "text": [
      "Accuracy : 0.0\n",
      "Hamming loss  0.07266088844300446\n",
      "Micro-average quality numbers\n",
      "Precision: 0.3226, Recall: 0.3456, F1-measure: 0.3337\n"
     ]
    }
   ],
   "source": [
    "start = datetime.now()\n",
    "classifier = OneVsRestClassifier(SGDClassifier(loss='hinge', alpha=0.00001, penalty='l2'), n_jobs=-1)\n",
    "classifier.fit(final_x_train_w2v, y_train)\n",
    "predictions = classifier.predict (final_x_test_w2v)\n",
    "\n",
    "\n",
    "print(\"Accuracy :\",metrics.accuracy_score(y_test, predictions))\n",
    "print(\"Hamming loss \",metrics.hamming_loss(y_test,predictions))\n",
    "\n",
    "\n",
    "precision = precision_score(y_test, predictions, average='micro')\n",
    "recall = recall_score(y_test, predictions, average='micro')\n",
    "f1 = f1_score(y_test, predictions, average='micro')\n",
    " \n",
    "print(\"Micro-average quality numbers\")\n",
    "print(\"Precision: {:.4f}, Recall: {:.4f}, F1-measure: {:.4f}\".format(precision, recall, f1))"
   ]
  },
  {
   "cell_type": "markdown",
   "metadata": {},
   "source": [
    "> As we can we are getting f1 score of 0.3337 which is less then logistic Regression"
   ]
  },
  {
   "cell_type": "markdown",
   "metadata": {},
   "source": [
    "## 2.Applying model with synopsis feature and semantic text"
   ]
  },
  {
   "cell_type": "markdown",
   "metadata": {},
   "source": [
    "#### combining synopsis feature with semantic feature"
   ]
  },
  {
   "cell_type": "code",
   "execution_count": 98,
   "metadata": {},
   "outputs": [],
   "source": [
    "from scipy.sparse import hstack\n",
    "# Combine all the features in question1 and question2\n",
    "final_xtrain_sematic = hstack((x_train1,x_train_verb))\n",
    "final_xtest_semantic = hstack((x_test_1,x_test_verb))"
   ]
  },
  {
   "cell_type": "markdown",
   "metadata": {},
   "source": [
    "### Logistic Regression"
   ]
  },
  {
   "cell_type": "code",
   "execution_count": 102,
   "metadata": {},
   "outputs": [
    {
     "data": {
      "image/png": "[encoded data removed]",
      "text/plain": [
       "<Figure size 432x288 with 1 Axes>"
      ]
     },
     "metadata": {
      "needs_background": "light"
     },
     "output_type": "display_data"
    },
    {
     "name": "stdout",
     "output_type": "stream",
     "text": [
      "\n",
      "The best value of alpha is 1e-05.\n",
      "Time taken to run this cell : 0:05:11.038876\n"
     ]
    }
   ],
   "source": [
    "# import sklearn.model_selection import cross_val_score\n",
    "import numpy as np\n",
    "import sklearn\n",
    "\n",
    "start = datetime.now()\n",
    "alpha_lst = [10**-5,10**-4,10**-3,10**-2,10**-1,10**0,10**1,10**2,10**3,10**4,10**5]\n",
    "micro_f1_scores = []\n",
    "for alpha_ in alpha_lst:\n",
    "    classifier = OneVsRestClassifier(SGDClassifier(loss='log', alpha=alpha_, penalty='l1'))\n",
    "    cv_scores = sklearn.model_selection.cross_val_score(classifier,final_xtrain_sematic, y_train, cv=3, scoring='f1_micro')\n",
    "    micro_f1_scores.append(cv_scores.mean())\n",
    "                                                   \n",
    "# plot alpha vs micro f1 score\n",
    "plt.plot(alpha_lst,micro_f1_scores)\n",
    "for i in range (0,len(alpha_lst)):\n",
    "    plt.annotate('%s' %alpha_lst[i], xy=(alpha_lst[i],micro_f1_scores[i]))\n",
    "plt.show()\n",
    "best_alpha = alpha_lst[np.argmax(micro_f1_scores)]\n",
    "print('\\nThe best value of alpha is %s.' %best_alpha)\n",
    "print(\"Time taken to run this cell :\", datetime.now() - start)"
   ]
  },
  {
   "cell_type": "code",
   "execution_count": 103,
   "metadata": {},
   "outputs": [
    {
     "name": "stdout",
     "output_type": "stream",
     "text": [
      "Micro-average quality numbers\n",
      "Precision: 0.3851, Recall: 0.3988, F1-measure: 0.3918\n",
      "Time taken to run this cell : 0:00:33.540126\n"
     ]
    }
   ],
   "source": [
    "start = datetime.now()\n",
    "classifier = OneVsRestClassifier(SGDClassifier(loss='log', alpha=0.00001, penalty='l1'))\n",
    "classifier.fit(final_xtrain_sematic, y_train)\n",
    "predictions = classifier.predict_proba(final_xtest_semantic)\n",
    "\n",
    "t = 0.2 # threshold value\n",
    "y_pred_new = (predictions >= t).astype(int)\n",
    "\n",
    "precision = precision_score(y_test, y_pred_new, average='micro')\n",
    "recall = recall_score(y_test, y_pred_new, average='micro')\n",
    "f1 = f1_score(y_test, y_pred_new, average='micro')\n",
    "\n",
    "print(\"Micro-average quality numbers\")\n",
    "print(\"Precision: {:.4f}, Recall: {:.4f}, F1-measure: {:.4f}\".format(precision, recall, f1))\n",
    "\n",
    "print(\"Time taken to run this cell :\", datetime.now() - start)"
   ]
  },
  {
   "cell_type": "markdown",
   "metadata": {},
   "source": [
    "> As we can see we are gettig F1 score of 0.3918"
   ]
  },
  {
   "cell_type": "markdown",
   "metadata": {},
   "source": [
    "### SVM"
   ]
  },
  {
   "cell_type": "code",
   "execution_count": 105,
   "metadata": {},
   "outputs": [
    {
     "name": "stdout",
     "output_type": "stream",
     "text": [
      "Accuracy : 0.05293324342548887\n",
      "Hamming loss  0.045396608719964475\n",
      "Micro-average quality numbers\n",
      "Precision: 0.3651, Recall: 0.3788, F1-measure: 0.3718\n"
     ]
    }
   ],
   "source": [
    "start = datetime.now()\n",
    "classifier = OneVsRestClassifier(SGDClassifier(loss='hinge', alpha=0.00001, penalty='l2'), n_jobs=-1)\n",
    "classifier.fit(final_xtrain_sematic, y_train)\n",
    "predictions = classifier.predict (final_xtest_semantic)\n",
    "\n",
    "\n",
    "print(\"Accuracy :\",metrics.accuracy_score(y_test, predictions))\n",
    "print(\"Hamming loss \",metrics.hamming_loss(y_test,predictions))\n",
    "\n",
    "\n",
    "precision = precision_score(y_test, predictions, average='micro')\n",
    "recall = recall_score(y_test, predictions, average='micro')\n",
    "f1 = f1_score(y_test, predictions, average='micro')\n",
    " \n",
    "print(\"Micro-average quality numbers\")\n",
    "print(\"Precision: {:.4f}, Recall: {:.4f}, F1-measure: {:.4f}\".format(precision, recall, f1))"
   ]
  },
  {
   "cell_type": "markdown",
   "metadata": {},
   "source": [
    "> As we can see we are getting F1 score of 0.3718"
   ]
  },
  {
   "cell_type": "markdown",
   "metadata": {},
   "source": [
    "## 3.Applying model with synopsis feature and topic modeling"
   ]
  },
  {
   "cell_type": "markdown",
   "metadata": {},
   "source": [
    "#### combining synopsis feature with topic modeling feature"
   ]
  },
  {
   "cell_type": "code",
   "execution_count": 27,
   "metadata": {},
   "outputs": [
    {
     "name": "stdout",
     "output_type": "stream",
     "text": [
      "shape of train and test (11862, 10000) (2966, 10000)\n"
     ]
    }
   ],
   "source": [
    "print(\"shape of train and test\",x_train1.shape,x_test_1.shape)"
   ]
  },
  {
   "cell_type": "code",
   "execution_count": 28,
   "metadata": {},
   "outputs": [
    {
     "name": "stdout",
     "output_type": "stream",
     "text": [
      "shape of train and test (11862, 40) (2966, 40)\n"
     ]
    }
   ],
   "source": [
    "print(\"shape of train and test\",x_train_keywords.shape,x_test_keywords.shape)"
   ]
  },
  {
   "cell_type": "code",
   "execution_count": 29,
   "metadata": {},
   "outputs": [],
   "source": [
    "from scipy.sparse import hstack\n",
    "# Combine all the features in question1 and question2\n",
    "final_xtrain_topic = hstack((x_train1,x_train_keywords))\n",
    "final_xtest_topic = hstack((x_test_1,x_test_keywords))"
   ]
  },
  {
   "cell_type": "markdown",
   "metadata": {},
   "source": [
    "### Logistic Regression"
   ]
  },
  {
   "cell_type": "code",
   "execution_count": 30,
   "metadata": {},
   "outputs": [
    {
     "data": {
      "image/png": "[encoded data removed]",
      "text/plain": [
       "<Figure size 432x288 with 1 Axes>"
      ]
     },
     "metadata": {
      "needs_background": "light"
     },
     "output_type": "display_data"
    },
    {
     "name": "stdout",
     "output_type": "stream",
     "text": [
      "\n",
      "The best value of alpha is 1e-05.\n",
      "Time taken to run this cell : 0:04:16.190707\n"
     ]
    }
   ],
   "source": [
    "# import sklearn.model_selection import cross_val_score\n",
    "import numpy as np\n",
    "import sklearn\n",
    "\n",
    "start = datetime.now()\n",
    "alpha_lst = [10**-5,10**-4,10**-3,10**-2,10**-1,10**0,10**1,10**2,10**3,10**4,10**5]\n",
    "micro_f1_scores = []\n",
    "for alpha_ in alpha_lst:\n",
    "    classifier = OneVsRestClassifier(SGDClassifier(loss='log', alpha=alpha_, penalty='l1'))\n",
    "    cv_scores = sklearn.model_selection.cross_val_score(classifier,final_xtrain_topic, y_train, cv=3, scoring='f1_micro')\n",
    "    micro_f1_scores.append(cv_scores.mean())\n",
    "                                                   \n",
    "# plot alpha vs micro f1 score\n",
    "plt.plot(alpha_lst,micro_f1_scores)\n",
    "for i in range (0,len(alpha_lst)):\n",
    "    plt.annotate('%s' %alpha_lst[i], xy=(alpha_lst[i],micro_f1_scores[i]))\n",
    "plt.show()\n",
    "best_alpha = alpha_lst[np.argmax(micro_f1_scores)]\n",
    "print('\\nThe best value of alpha is %s.' %best_alpha)\n",
    "print(\"Time taken to run this cell :\", datetime.now() - start)"
   ]
  },
  {
   "cell_type": "code",
   "execution_count": 31,
   "metadata": {},
   "outputs": [
    {
     "name": "stdout",
     "output_type": "stream",
     "text": [
      "Micro-average quality numbers\n",
      "Precision: 0.4097, Recall: 0.4192, F1-measure: 0.4143\n",
      "Time taken to run this cell : 0:00:27.774519\n"
     ]
    }
   ],
   "source": [
    "start = datetime.now()\n",
    "classifier = OneVsRestClassifier(SGDClassifier(loss='log', alpha=0.00001, penalty='l1'))\n",
    "classifier.fit(final_xtrain_topic, y_train)\n",
    "predictions = classifier.predict_proba(final_xtest_topic)\n",
    "\n",
    "t = 0.2 # threshold value\n",
    "y_pred_new = (predictions >= t).astype(int)\n",
    "\n",
    "precision = precision_score(y_test, y_pred_new, average='micro')\n",
    "recall = recall_score(y_test, y_pred_new, average='micro')\n",
    "f1 = f1_score(y_test, y_pred_new, average='micro')\n",
    "\n",
    "print(\"Micro-average quality numbers\")\n",
    "print(\"Precision: {:.4f}, Recall: {:.4f}, F1-measure: {:.4f}\".format(precision, recall, f1))\n",
    "\n",
    "print(\"Time taken to run this cell :\", datetime.now() - start)"
   ]
  },
  {
   "cell_type": "markdown",
   "metadata": {},
   "source": [
    "> We are getting F1 score of 0.4143"
   ]
  },
  {
   "cell_type": "markdown",
   "metadata": {},
   "source": [
    "### SVM"
   ]
  },
  {
   "cell_type": "code",
   "execution_count": 32,
   "metadata": {},
   "outputs": [
    {
     "name": "stdout",
     "output_type": "stream",
     "text": [
      "Accuracy : 0.010114632501685773\n",
      "Hamming loss  0.06111129385063237\n",
      "Micro-average quality numbers\n",
      "Precision: 0.3393, Recall: 0.3988, F1-measure: 0.3960\n"
     ]
    }
   ],
   "source": [
    "start = datetime.now()\n",
    "classifier = OneVsRestClassifier(SGDClassifier(loss='hinge', alpha=0.00001, penalty='l2'), n_jobs=-1)\n",
    "classifier.fit(final_xtrain_topic, y_train)\n",
    "predictions = classifier.predict (final_xtest_topic)\n",
    "\n",
    "\n",
    "print(\"Accuracy :\",metrics.accuracy_score(y_test, predictions))\n",
    "print(\"Hamming loss \",metrics.hamming_loss(y_test,predictions))\n",
    "\n",
    "\n",
    "precision = precision_score(y_test, predictions, average='micro')\n",
    "recall = recall_score(y_test, predictions, average='micro')\n",
    "f1 = f1_score(y_test, predictions, average='micro')\n",
    " \n",
    "print(\"Micro-average quality numbers\")\n",
    "print(\"Precision: {:.4f}, Recall: {:.4f}, F1-measure: {:.4f}\".format(precision, recall, f1))"
   ]
  },
  {
   "cell_type": "markdown",
   "metadata": {},
   "source": [
    "> We are getting F1 score of 0.3960"
   ]
  },
  {
   "cell_type": "markdown",
   "metadata": {},
   "source": [
    "### Combinig all feature together polarity,semantic text , topic modeling"
   ]
  },
  {
   "cell_type": "code",
   "execution_count": 61,
   "metadata": {},
   "outputs": [
    {
     "data": {
      "image/png": "[encoded data removed]",
      "text/plain": [
       "<Figure size 432x288 with 1 Axes>"
      ]
     },
     "metadata": {
      "needs_background": "light"
     },
     "output_type": "display_data"
    },
    {
     "name": "stdout",
     "output_type": "stream",
     "text": [
      "\n",
      "The best value of alpha is 1e-05.\n",
      "Time taken to run this cell : 0:05:41.109582\n"
     ]
    }
   ],
   "source": [
    "# import sklearn.model_selection import cross_val_score\n",
    "import numpy as np\n",
    "import sklearn\n",
    "\n",
    "start = datetime.now()\n",
    "alpha_lst = [10**-5,10**-4,10**-3,10**-2,10**-1,10**0,10**1,10**2,10**3,10**4,10**5]\n",
    "micro_f1_scores = []\n",
    "for alpha_ in alpha_lst:\n",
    "    classifier = OneVsRestClassifier(SGDClassifier(loss='log', alpha=alpha_, penalty='l1'))\n",
    "    cv_scores = sklearn.model_selection.cross_val_score(classifier,final_xtrain, y_train, cv=3, scoring='f1_micro')\n",
    "    micro_f1_scores.append(cv_scores.mean())\n",
    "                                                   \n",
    "# plot alpha vs micro f1 score\n",
    "plt.plot(alpha_lst,micro_f1_scores)\n",
    "for i in range (0,len(alpha_lst)):\n",
    "    plt.annotate('%s' %alpha_lst[i], xy=(alpha_lst[i],micro_f1_scores[i]))\n",
    "plt.show()\n",
    "best_alpha = alpha_lst[np.argmax(micro_f1_scores)]\n",
    "print('\\nThe best value of alpha is %s.' %best_alpha)\n",
    "print(\"Time taken to run this cell :\", datetime.now() - start)"
   ]
  },
  {
   "cell_type": "code",
   "execution_count": 62,
   "metadata": {},
   "outputs": [
    {
     "name": "stdout",
     "output_type": "stream",
     "text": [
      "Micro-average quality numbers\n",
      "Precision: 0.3833, Recall: 0.3788, F1-measure: 0.3810\n",
      "Time taken to run this cell : 0:00:39.944799\n"
     ]
    }
   ],
   "source": [
    "start = datetime.now()\n",
    "classifier = OneVsRestClassifier(SGDClassifier(loss='log', alpha=0.00001, penalty='l1'))\n",
    "classifier.fit(final_xtrain, y_train)\n",
    "predictions = classifier.predict_proba(final_xtest)\n",
    "\n",
    "t = 0.2 # threshold value\n",
    "y_pred_new = (predictions >= t).astype(int)\n",
    "\n",
    "precision = precision_score(y_test, y_pred_new, average='micro')\n",
    "recall = recall_score(y_test, y_pred_new, average='micro')\n",
    "f1 = f1_score(y_test, y_pred_new, average='micro')\n",
    "\n",
    "print(\"Micro-average quality numbers\")\n",
    "print(\"Precision: {:.4f}, Recall: {:.4f}, F1-measure: {:.4f}\".format(precision, recall, f1))\n",
    "\n",
    "print(\"Time taken to run this cell :\", datetime.now() - start)"
   ]
  },
  {
   "cell_type": "markdown",
   "metadata": {},
   "source": [
    "> As we can see when considering all the feature together we are getting F1 score of abt 0.3810"
   ]
  },
  {
   "cell_type": "markdown",
   "metadata": {},
   "source": [
    "# Conclusion"
   ]
  },
  {
   "cell_type": "code",
   "execution_count": 10,
   "metadata": {},
   "outputs": [
    {
     "name": "stdout",
     "output_type": "stream",
     "text": [
      "+-------------+---------------------+---------------------------+----------+\n",
      "| Vectorizer  |        Models       |          Features         | F1 score |\n",
      "+-------------+---------------------+---------------------------+----------+\n",
      "|    TFidf    | Logistic Regression |    Polarity & synopsis    |  0.3875  |\n",
      "|    TFidf    |         SVM         |    Polarity & synopsis    |  0.3708  |\n",
      "|   Word2vec  | Logistic Regression |    Polarity & synopsis    |  0.341   |\n",
      "|   Word2vec  |         SVM         |    Polarity & synopsis    |  0.3337  |\n",
      "|   -------   |      ----------     |        -----------        |  ------  |\n",
      "|    TFidf    | Logistic Regression |    Polarity & synopsis    |  0.3918  |\n",
      "|    TFidf    |         SVM         |    Polarity & synopsis    |  0.3718  |\n",
      "|   -------   |      ----------     |        -----------        |  ------  |\n",
      "|    TFidf    | Logistic Regression | Topic modeling & synopsis |  0.4143  |\n",
      "|    TFidf    |         SVM         |    Polarity & synopsis    |  0.396   |\n",
      "|   -------   |      ----------     |        -----------        |  ------  |\n",
      "|    TFidf    | Logistic Regression |   Combining all feature   |  0.381   |\n",
      "+-------------+---------------------+---------------------------+----------+\n"
     ]
    }
   ],
   "source": [
    "from prettytable import PrettyTable\n",
    "x = PrettyTable()\n",
    "x.field_names = [\"Vectorizer \",\"Models\",\"Features\" ,\"F1 score\"]\n",
    "x.add_row([\"TFidf\",\"Logistic Regression\",'Polarity & synopsis',0.3875])\n",
    "x.add_row([\"TFidf\",\"SVM\",'Polarity & synopsis',0.3708])\n",
    "\n",
    "x.add_row(['Word2vec','Logistic Regression','Polarity & synopsis',0.3410])\n",
    "x.add_row(['Word2vec',\"SVM\",'Polarity & synopsis',0.3337])\n",
    "x.add_row([\"-------\",\"----------\",\"-----------\",\"------\"])\n",
    "x.add_row([\"TFidf\",\"Logistic Regression\",'Polarity & synopsis',0.3918])\n",
    "x.add_row([\"TFidf\",\"SVM\",'Polarity & synopsis',0.3718])\n",
    "x.add_row([\"-------\",\"----------\",\"-----------\",\"------\"])\n",
    "x.add_row([\"TFidf\",\"Logistic Regression\",'Topic modeling & synopsis',0.4143])\n",
    "x.add_row([\"TFidf\",\"SVM\",'Polarity & synopsis',0.3960])\n",
    "x.add_row([\"-------\",\"----------\",\"-----------\",\"------\"])\n",
    "x.add_row([\"TFidf\",\"Logistic Regression\",'Combining all feature',0.3810])\n",
    "print (x)"
   ]
  },
  {
   "cell_type": "markdown",
   "metadata": {},
   "source": [
    "> <b>So for Logistic Regression we are getting high F1 score i.e 0.4143 for topic modeling feature and result might get increase with more data and featurization.</b>"
   ]
  },
  {
   "cell_type": "markdown",
   "metadata": {},
   "source": [
    "> <b> As we can we are getting better F1 score for Tfidf then the word2vec"
   ]
  },
  {
   "cell_type": "markdown",
   "metadata": {},
   "source": [
    "## Steps Followed"
   ]
  },
  {
   "cell_type": "markdown",
   "metadata": {},
   "source": [
    "1. Reading and loadin the data\n",
    "2. Performing some EDA and analysing tags\n",
    "3. Pre-processing like removing stopwords,stemming,lemmitization,punctuationn\n",
    "4. Using Countvectorizer for multilabel tags\n",
    "5. Vectorizing our text using TFidf Vecorizer\n",
    "6. Splitting our data into train and test with 0.3 \n",
    "7. Applying machine learning model \n",
    "8. Applied Logistic Regression using cross val score with cv=3 since we have less amt of data.\n",
    "9. Also tried word2vec from pre-trained model but performance was better for tfidf then the word2vec.\n",
    "10. Same trying for different different feature\n",
    "11. Conclusion"
   ]
  }
 ],
 "metadata": {
  "kernelspec": {
   "display_name": "Python 3",
   "language": "python",
   "name": "python3"
  },
  "language_info": {
   "codemirror_mode": {
    "name": "ipython",
    "version": 3
   },
   "file_extension": ".py",
   "mimetype": "text/x-python",
   "name": "python",
   "nbconvert_exporter": "python",
   "pygments_lexer": "ipython3",
   "version": "3.6.7"
  }
 },
 "nbformat": 4,
 "nbformat_minor": 2
}
